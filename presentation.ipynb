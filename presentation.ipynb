{
 "cells": [
  {
   "cell_type": "raw",
   "metadata": {
    "collapsed": true,
    "slideshow": {
     "slide_type": "slide"
    }
   },
   "source": [
    "<div style='font-size: 72px; text-align: center; height: 95%'>\n",
    "    <b>Gathering Related Functionality</b>\n",
    "    <b><div style='font-size: 64px; text-align: center'>Patterns for Cleaner API design</div></b>\n",
    "    <br/>\n",
    "    <br/>\n",
    "    <span style='font-size: 50px'>\n",
    "        Paul Ganssle<br/>\n",
    "        <img src=\"images/bloomberg-logo-black.svg\" style=\"border: none; box-shadow: none; height: 45px\"><br/>\n",
    "        <div style=\"text-align:center\"><img src=\"images/pganssle-logos.svg\" style=\"border: 0px; box-shadow: none; height: 40px; display:inline\"></div>\n",
    "        </span>\n",
    "</div>\n",
    "<br/><br/>\n",
    "<div style=\"text-align: center; font-size: 20px\">\n",
    "<i><a href=\"https://github.com/pganssle-talks/pygotham-2018-clean-apis\">This talk on Github: pganssle-talks/pygotham-2018-clean-apis</a></i></br>\n",
    "<br/>\n",
    "<img src=\"img-sources/cc-by.svg\"/>\n",
    "<div style='text-align:center'>Copyright 2018 Bloomberg, L.P.</div>\n",
    "</div>"
   ]
  },
  {
   "cell_type": "code",
   "execution_count": 1,
   "metadata": {
    "slideshow": {
     "slide_type": "skip"
    }
   },
   "outputs": [],
   "source": [
    "import re\n",
    "import pathlib\n",
    "import pprint\n",
    "from typing import Tuple\n",
    "import io\n",
    "from io import StringIO\n",
    "pp = pprint.PrettyPrinter(indent=2, compact=False, width=80)\n",
    "\n",
    "import numpy as np\n",
    "import math\n",
    "import operator\n",
    "from dataclasses import dataclass\n",
    "\n",
    "import dateutil.parser\n",
    "from typing import Union, Tuple, IO, Iterator, List"
   ]
  },
  {
   "cell_type": "code",
   "execution_count": 2,
   "metadata": {
    "slideshow": {
     "slide_type": "skip"
    }
   },
   "outputs": [],
   "source": [
    "import extra_modules.typecheck_magic    # %%typecheck\n",
    "\n",
    "%typecheck_clear"
   ]
  },
  {
   "cell_type": "markdown",
   "metadata": {
    "slideshow": {
     "slide_type": "slide"
    }
   },
   "source": [
    "# General principles"
   ]
  },
  {
   "cell_type": "markdown",
   "metadata": {},
   "source": [
    "## Related functionality should be grouped together\n",
    "\n",
    "- Namespaced by module: `math.sqrt`, `requests.get`\n",
    "- Namespaced by class: `'string\\n'.strip()`, `datetime.fromtimestamp`"
   ]
  },
  {
   "cell_type": "markdown",
   "metadata": {
    "slideshow": {
     "slide_type": "fragment"
    }
   },
   "source": [
    "### Interfaces should be discoverable\n",
    "\n",
    "- Documentation\n",
    "- Tab completion\n",
    "- `dir(my_module)`"
   ]
  },
  {
   "cell_type": "markdown",
   "metadata": {
    "slideshow": {
     "slide_type": "subslide"
    }
   },
   "source": [
    "# General principles"
   ]
  },
  {
   "cell_type": "markdown",
   "metadata": {},
   "source": [
    "## Think about function signatures"
   ]
  },
  {
   "cell_type": "markdown",
   "metadata": {
    "slideshow": {
     "slide_type": "notes"
    }
   },
   "source": [
    "If it isn't obvious from the function signature what your interface does, it's not a great interface"
   ]
  },
  {
   "cell_type": "markdown",
   "metadata": {},
   "source": [
    "### relativedelta signature:\n",
    "\n",
    "```python\n",
    "def relativedelta(dt1: datetime=None, dt2:datetime=None,\n",
    "                  years: int=0, months: int=0, ...,\n",
    "                  year: int=0, month: int=0, ...) -> relativedelta:\n",
    "    ...\n",
    "```"
   ]
  },
  {
   "cell_type": "markdown",
   "metadata": {
    "slideshow": {
     "slide_type": "fragment"
    }
   },
   "source": [
    "### Intended use:\n",
    "\n",
    "```python\n",
    "relativedelta(dt1: datetime=None, dt2: datetime=None) -> relativedelta\n",
    "```\n",
    "\n",
    "**or**\n",
    "\n",
    "```python\n",
    "relativedelta(years: int=0, months: int=0, ...,\n",
    "              year: int=0, month: int=0, ...) -> relativedelta\n",
    "```"
   ]
  },
  {
   "cell_type": "markdown",
   "metadata": {
    "slideshow": {
     "slide_type": "fragment"
    }
   },
   "source": [
    "### Return type determined by function logic\n",
    "\n",
    "```python\n",
    "def send_request(req: RequestType,\n",
    "                 return_context: bool) -> Union[ResponseType, Tuple[ResponseType, Context]]:\n",
    "    ...\n",
    "```\n"
   ]
  },
  {
   "cell_type": "markdown",
   "metadata": {
    "slideshow": {
     "slide_type": "subslide"
    }
   },
   "source": [
    "# General principles"
   ]
  },
  {
   "cell_type": "markdown",
   "metadata": {},
   "source": [
    "## Provide explicit versions of \"magical\" interfaces"
   ]
  },
  {
   "cell_type": "code",
   "execution_count": 3,
   "metadata": {
    "slideshow": {
     "slide_type": "-"
    }
   },
   "outputs": [],
   "source": [
    "from dateutil.parser import parse, isoparse\n",
    "from datetime import datetime"
   ]
  },
  {
   "cell_type": "code",
   "execution_count": 4,
   "metadata": {},
   "outputs": [
    {
     "name": "stdout",
     "output_type": "stream",
     "text": [
      "1951-03-19 00:00:00\n",
      "2019-01-04 12:30:00+00:00\n",
      "2018-03-01 00:00:00\n"
     ]
    }
   ],
   "source": [
    "for dt in [parse('March 19, 1951'),\n",
    "           parse('2019-01-04T12:30Z'),\n",
    "           parse('2018/03/01')]:\n",
    "    print(dt)"
   ]
  },
  {
   "cell_type": "code",
   "execution_count": 5,
   "metadata": {
    "slideshow": {
     "slide_type": "fragment"
    }
   },
   "outputs": [
    {
     "data": {
      "text/plain": [
       "datetime.datetime(2019, 1, 4, 12, 30, tzinfo=tzutc())"
      ]
     },
     "execution_count": 5,
     "metadata": {},
     "output_type": "execute_result"
    }
   ],
   "source": [
    "isoparse('2019-01-04T12:30Z')"
   ]
  },
  {
   "cell_type": "code",
   "execution_count": 6,
   "metadata": {},
   "outputs": [
    {
     "name": "stdout",
     "output_type": "stream",
     "text": [
      "invalid literal for int() with base 10: b'/03'\n"
     ]
    }
   ],
   "source": [
    "try:\n",
    "    isoparse('2018/03/01')\n",
    "except Exception as e:\n",
    "    print(e)"
   ]
  },
  {
   "cell_type": "markdown",
   "metadata": {
    "slideshow": {
     "slide_type": "slide"
    }
   },
   "source": [
    "## Example Class: Coordinate"
   ]
  },
  {
   "cell_type": "code",
   "execution_count": 7,
   "metadata": {
    "slideshow": {
     "slide_type": "-"
    }
   },
   "outputs": [],
   "source": [
    "class Coordinate:\n",
    "    \"\"\"Representation of coordinates on a globe in latitude and longitude\"\"\"\n",
    "    def __init__(self, lat, long):\n",
    "        self.lat = float(lat)\n",
    "        self.long = float(long)\n",
    "    \n",
    "    def __repr__(self):\n",
    "        return (f'{self.__class__.__name__}(' +\n",
    "                ','.join(str(v) for v in (self.lat, self.long)) + ')')\n",
    "    \n",
    "    def __str__(self):\n",
    "        latstr = '%f%s' % (abs(self.lat), 'N' if self.lat >= 0.0 else 'S')\n",
    "        longstr = '%f%s' % (abs(self.long), 'W' if self.long >= 0.0 else 'E' )\n",
    "        \n",
    "        return f'{latstr},{longstr}'\n",
    "\n",
    "_BaseCoordinate = Coordinate"
   ]
  },
  {
   "cell_type": "code",
   "execution_count": 8,
   "metadata": {},
   "outputs": [
    {
     "name": "stdout",
     "output_type": "stream",
     "text": [
      "Tokyo: 35.689500N,139.691700E\n",
      "New York: 40.712800N,74.006000W\n",
      "Brisbane: 27.469800S,153.025100E\n",
      "Santiago: 33.448900S,70.669300W\n"
     ]
    }
   ],
   "source": [
    "cities = {\n",
    "    'Tokyo': Coordinate(35.6895, -139.6917),\n",
    "    'New York': Coordinate(40.7128, 74.0060),\n",
    "    'Brisbane': Coordinate(-27.4698, -153.0251),\n",
    "    'Santiago': Coordinate(-33.4489, 70.6693)\n",
    "}\n",
    "\n",
    "city_strs = {city: str(coords) for city, coords in cities.items()}\n",
    "for city, coords in cities.items():\n",
    "    print(f'{city}: {coords}')"
   ]
  },
  {
   "cell_type": "markdown",
   "metadata": {
    "slideshow": {
     "slide_type": "subslide"
    }
   },
   "source": [
    "## Multiple ways to construct a Coordinate"
   ]
  },
  {
   "cell_type": "code",
   "execution_count": 9,
   "metadata": {},
   "outputs": [],
   "source": [
    "class Coordinate(_BaseCoordinate):\n",
    "    def __init__(self, coord_str_or_lat, long=None):\n",
    "        if isinstance(coord_str_or_lat, str) and long is None:\n",
    "            coord_str_or_lat, long = self._parse_coord_str(coord_str_or_lat)\n",
    "        \n",
    "        self.lat = float(coord_str_or_lat)\n",
    "        self.long = float(long)\n",
    "\n",
    "    @staticmethod\n",
    "    def _parse_coord_str(coord_str):\n",
    "        m = re.match('(?P<lat>\\d+\\.?\\d*)(?P<latdir>N|S)' + ',' +\n",
    "                     '(?P<long>\\d+\\.?\\d*)(?P<longdir>W|E)', coord_str.strip())\n",
    "        if m is None:\n",
    "            raise ValueError(f'Invalid coordinates: {coord_str}')\n",
    "        \n",
    "        lat = float(m.group('lat')) * (-1 if m.group('latdir') == 'S' else 1)\n",
    "        long = float(m.group('long')) * (-1 if m.group('longdir') == 'E' else 1)\n",
    "        \n",
    "        return lat, long"
   ]
  },
  {
   "cell_type": "code",
   "execution_count": 10,
   "metadata": {},
   "outputs": [
    {
     "data": {
      "text/plain": [
       "Coordinate(-27.4698,-153.0251)"
      ]
     },
     "execution_count": 10,
     "metadata": {},
     "output_type": "execute_result"
    }
   ],
   "source": [
    "Coordinate(-27.4698, -153.0251)"
   ]
  },
  {
   "cell_type": "code",
   "execution_count": 11,
   "metadata": {},
   "outputs": [
    {
     "data": {
      "text/plain": [
       "Coordinate(35.6895,-139.6917)"
      ]
     },
     "execution_count": 11,
     "metadata": {},
     "output_type": "execute_result"
    }
   ],
   "source": [
    "Coordinate('35.689500N,139.691700E')"
   ]
  },
  {
   "cell_type": "markdown",
   "metadata": {
    "slideshow": {
     "slide_type": "subslide"
    }
   },
   "source": [
    "### Desired API:\n",
    "- `Coordinate(coord_str: str) -> Coordinate`\n",
    "- `Coordinate(lat: float, long: float) -> Coordinate`"
   ]
  },
  {
   "cell_type": "markdown",
   "metadata": {
    "slideshow": {
     "slide_type": "fragment"
    }
   },
   "source": [
    "### Actual API:\n",
    "- `Coordinate(coord_or_str: Union[float, str], long: float=None) -> Coordinate`"
   ]
  },
  {
   "cell_type": "markdown",
   "metadata": {
    "slideshow": {
     "slide_type": "fragment"
    }
   },
   "source": [
    "### Errors from naive use"
   ]
  },
  {
   "cell_type": "code",
   "execution_count": 12,
   "metadata": {},
   "outputs": [
    {
     "name": "stdout",
     "output_type": "stream",
     "text": [
      "ValueError(\"could not convert string to float: '35.689500N'\")\n"
     ]
    }
   ],
   "source": [
    "try:\n",
    "    # long is a valid argument, why is it complaining about converting the coords to floats?!\n",
    "    Coordinate('35.689500N', -139.00)\n",
    "except Exception as e:\n",
    "    print(repr(e))"
   ]
  },
  {
   "cell_type": "code",
   "execution_count": 13,
   "metadata": {
    "slideshow": {
     "slide_type": "fragment"
    }
   },
   "outputs": [
    {
     "name": "stdout",
     "output_type": "stream",
     "text": [
      "TypeError(\"float() argument must be a string or a number, not 'NoneType'\")\n"
     ]
    }
   ],
   "source": [
    "try:\n",
    "    # Why does long have a default value if it's a required argument?\n",
    "    Coordinate(-18.45)\n",
    "except Exception as e:\n",
    "    print(repr(e))"
   ]
  },
  {
   "cell_type": "markdown",
   "metadata": {
    "slideshow": {
     "slide_type": "subslide"
    }
   },
   "source": [
    "## Using an alternate constructor"
   ]
  },
  {
   "cell_type": "code",
   "execution_count": 14,
   "metadata": {},
   "outputs": [],
   "source": [
    "class Coordinate(_BaseCoordinate):\n",
    "    def __init__(self, lat: float, long: float):\n",
    "        self.lat = float(lat)\n",
    "        self.long = float(long)\n",
    "    \n",
    "    @classmethod\n",
    "    def from_str(cls, coord_str: str) -> Coordinate:\n",
    "        m = re.match('(?P<lat>\\d+\\.?\\d*)(?P<latdir>N|S)' + ',' +\n",
    "                     '(?P<long>\\d+\\.?\\d*)(?P<longdir>W|E)', coord_str.strip())\n",
    "        if m is None:\n",
    "            raise ValueError(f'Invalid coordinates: {coord_str}')\n",
    "        \n",
    "        lat = float(m.group('lat')) * (-1 if m.group('latdir') == 'S' else 1)\n",
    "        long = float(m.group('long')) * (-1 if m.group('longdir') == 'E' else 1)\n",
    "        \n",
    "        return cls(lat, long)"
   ]
  },
  {
   "cell_type": "code",
   "execution_count": 15,
   "metadata": {
    "slideshow": {
     "slide_type": "fragment"
    }
   },
   "outputs": [
    {
     "data": {
      "text/plain": [
       "Coordinate(40.7128,74.006)"
      ]
     },
     "execution_count": 15,
     "metadata": {},
     "output_type": "execute_result"
    }
   ],
   "source": [
    "Coordinate(40.7128, 74.006)"
   ]
  },
  {
   "cell_type": "code",
   "execution_count": 16,
   "metadata": {},
   "outputs": [
    {
     "data": {
      "text/plain": [
       "Coordinate(40.7128,74.006)"
      ]
     },
     "execution_count": 16,
     "metadata": {},
     "output_type": "execute_result"
    }
   ],
   "source": [
    "Coordinate.from_str('40.712800N,74.006000W')"
   ]
  },
  {
   "cell_type": "markdown",
   "metadata": {},
   "source": [
    "### API\n",
    "- `Coordinate(lat: float, long: float) -> Coordinate`\n",
    "- `Coordinate.from_str(coord_str: str) -> Coordinate`"
   ]
  },
  {
   "cell_type": "markdown",
   "metadata": {
    "slideshow": {
     "slide_type": "skip"
    }
   },
   "source": [
    "### Error messages"
   ]
  },
  {
   "cell_type": "code",
   "execution_count": 17,
   "metadata": {
    "slideshow": {
     "slide_type": "skip"
    }
   },
   "outputs": [
    {
     "name": "stdout",
     "output_type": "stream",
     "text": [
      "ValueError(\"could not convert string to float: '35.689500N,139.691700E'\")\n"
     ]
    }
   ],
   "source": [
    "try:\n",
    "    Coordinate('35.689500N,139.691700E', -139.00)\n",
    "except ValueError as e:\n",
    "    print(repr(e))"
   ]
  },
  {
   "cell_type": "code",
   "execution_count": 18,
   "metadata": {
    "slideshow": {
     "slide_type": "skip"
    }
   },
   "outputs": [
    {
     "name": "stdout",
     "output_type": "stream",
     "text": [
      "TypeError(\"__init__() missing 1 required positional argument: 'long'\")\n"
     ]
    }
   ],
   "source": [
    "try:\n",
    "    Coordinate(-18.75)\n",
    "except TypeError as e:\n",
    "    print(repr(e))"
   ]
  },
  {
   "cell_type": "code",
   "execution_count": 19,
   "metadata": {
    "slideshow": {
     "slide_type": "skip"
    }
   },
   "outputs": [
    {
     "name": "stdout",
     "output_type": "stream",
     "text": [
      "TypeError('from_str() takes 2 positional arguments but 3 were given')\n"
     ]
    }
   ],
   "source": [
    "try:\n",
    "    Coordinate.from_str(-18.75, -139.00)\n",
    "except TypeError as e:\n",
    "    print(repr(e))"
   ]
  },
  {
   "cell_type": "code",
   "execution_count": 20,
   "metadata": {
    "slideshow": {
     "slide_type": "skip"
    }
   },
   "outputs": [],
   "source": [
    "def round_float_errs(val: float) -> float:\n",
    "    return round(val*1e8) / 1e8"
   ]
  },
  {
   "cell_type": "markdown",
   "metadata": {
    "slideshow": {
     "slide_type": "slide"
    }
   },
   "source": [
    "## Inheriting class behavior"
   ]
  },
  {
   "cell_type": "code",
   "execution_count": 21,
   "metadata": {
    "slideshow": {
     "slide_type": "-"
    }
   },
   "outputs": [],
   "source": [
    "@dataclass\n",
    "class Point:\n",
    "    x: float\n",
    "    y: float\n",
    "    \n",
    "    @classmethod\n",
    "    def from_polar(cls, *args, **kwargs):\n",
    "        constructor_args = cls.polar_to_cartesian(*args, **kwargs)\n",
    "        return cls(*constructor_args)\n",
    "    \n",
    "    @staticmethod\n",
    "    def polar_to_cartesian(r, theta):\n",
    "        x = r * math.cos(theta)\n",
    "        y = r * math.sin(theta)\n",
    "        \n",
    "        # Tweak for floating point errors\n",
    "        x, y = map(round_float_errs, (x, y))\n",
    "        return x, y"
   ]
  },
  {
   "cell_type": "code",
   "execution_count": 22,
   "metadata": {},
   "outputs": [
    {
     "data": {
      "text/plain": [
       "Point(x=1.0, y=1.0)"
      ]
     },
     "execution_count": 22,
     "metadata": {},
     "output_type": "execute_result"
    }
   ],
   "source": [
    "Point(1.0, 1.0)"
   ]
  },
  {
   "cell_type": "code",
   "execution_count": 23,
   "metadata": {},
   "outputs": [
    {
     "data": {
      "text/plain": [
       "Point(x=1.0, y=1.0)"
      ]
     },
     "execution_count": 23,
     "metadata": {},
     "output_type": "execute_result"
    }
   ],
   "source": [
    "Point.from_polar(math.sqrt(2), math.pi/4)"
   ]
  },
  {
   "cell_type": "markdown",
   "metadata": {
    "slideshow": {
     "slide_type": "notes"
    }
   },
   "source": [
    "Refactoring this into a `classmethod` for the alternate constructor gives the same thing for the `Point` class, but `Point` is no longer hard-coded into the alternate constructor"
   ]
  },
  {
   "cell_type": "markdown",
   "metadata": {
    "slideshow": {
     "slide_type": "subslide"
    }
   },
   "source": [
    "## Customizing behavior by overriding subclass methods"
   ]
  },
  {
   "cell_type": "code",
   "execution_count": 98,
   "metadata": {
    "slideshow": {
     "slide_type": "-"
    }
   },
   "outputs": [],
   "source": [
    "@dataclass\n",
    "class NamedPoint(Point):\n",
    "    x: float\n",
    "    y: float\n",
    "    name: str = None"
   ]
  },
  {
   "cell_type": "code",
   "execution_count": 99,
   "metadata": {},
   "outputs": [
    {
     "data": {
      "text/plain": [
       "NamedPoint(x=0, y=0, name='origin')"
      ]
     },
     "execution_count": 99,
     "metadata": {},
     "output_type": "execute_result"
    }
   ],
   "source": [
    "NamedPoint(0, 0, name=\"origin\")"
   ]
  },
  {
   "cell_type": "code",
   "execution_count": 100,
   "metadata": {},
   "outputs": [
    {
     "data": {
      "text/plain": [
       "NamedPoint(x=0.0, y=0.0, name=None)"
      ]
     },
     "execution_count": 100,
     "metadata": {},
     "output_type": "execute_result"
    }
   ],
   "source": [
    "NamedPoint.from_polar(0, 0)"
   ]
  },
  {
   "cell_type": "markdown",
   "metadata": {
    "slideshow": {
     "slide_type": "notes"
    }
   },
   "source": [
    "We can now re-use the `from_polar` to get an anonymous `NamedPoint`, but what if we actually want to give our thing a name? For that we can use the `super()` builtin to call the base class constructor first."
   ]
  },
  {
   "cell_type": "code",
   "execution_count": 102,
   "metadata": {
    "slideshow": {
     "slide_type": "fragment"
    }
   },
   "outputs": [],
   "source": [
    "@dataclass\n",
    "class NamedPoint(Point):\n",
    "    x: float\n",
    "    y: float\n",
    "    name: str = None\n",
    "    \n",
    "    @classmethod\n",
    "    def from_polar(cls, *args, name=None, **kwargs):\n",
    "        # Initialize the base class\n",
    "        rv = super().from_polar(*args, **kwargs)\n",
    "        \n",
    "        # Customize the subclass functions\n",
    "        if name is not None:\n",
    "            rv.name = name\n",
    "        return rv"
   ]
  },
  {
   "cell_type": "code",
   "execution_count": 103,
   "metadata": {},
   "outputs": [
    {
     "data": {
      "text/plain": [
       "NamedPoint(x=0.0, y=0.0, name='origin')"
      ]
     },
     "execution_count": 103,
     "metadata": {},
     "output_type": "execute_result"
    }
   ],
   "source": [
    "NamedPoint.from_polar(0, 0, name='origin')"
   ]
  },
  {
   "cell_type": "markdown",
   "metadata": {
    "slideshow": {
     "slide_type": "subslide"
    }
   },
   "source": [
    "## Customizing behavior by overriding subclass methods"
   ]
  },
  {
   "cell_type": "code",
   "execution_count": 104,
   "metadata": {
    "slideshow": {
     "slide_type": "-"
    }
   },
   "outputs": [],
   "source": [
    "@dataclass\n",
    "class Point3D(Point):\n",
    "    x: float\n",
    "    y: float\n",
    "    z: float\n",
    "        \n",
    "    @staticmethod\n",
    "    def polar_to_cartesian(r, theta, phi):\n",
    "        x = r * math.sin(theta) * math.cos(phi)\n",
    "        y = r * math.sin(theta) * math.sin(phi)\n",
    "        z = r * math.cos(theta)\n",
    "        \n",
    "        x, y, z = map(round_float_errs, (x, y, z))\n",
    "        return x, y, z"
   ]
  },
  {
   "cell_type": "code",
   "execution_count": 105,
   "metadata": {},
   "outputs": [
    {
     "data": {
      "text/plain": [
       "Point3D(x=1, y=1, z=1)"
      ]
     },
     "execution_count": 105,
     "metadata": {},
     "output_type": "execute_result"
    }
   ],
   "source": [
    "Point3D(1, 1, 1)"
   ]
  },
  {
   "cell_type": "code",
   "execution_count": 106,
   "metadata": {},
   "outputs": [
    {
     "data": {
      "text/plain": [
       "Point3D(x=1.0, y=1.0, z=1.0)"
      ]
     },
     "execution_count": 106,
     "metadata": {},
     "output_type": "execute_result"
    }
   ],
   "source": [
    "Point3D.from_polar(math.sqrt(3), math.acos(1/math.sqrt(3)), math.atan(1))"
   ]
  },
  {
   "cell_type": "markdown",
   "metadata": {
    "slideshow": {
     "slide_type": "skip"
    }
   },
   "source": [
    "# Namespacing functions"
   ]
  },
  {
   "cell_type": "code",
   "execution_count": 32,
   "metadata": {
    "slideshow": {
     "slide_type": "skip"
    }
   },
   "outputs": [],
   "source": [
    "import abc\n",
    "\n",
    "class CartesianBase(metaclass=abc.ABCMeta):\n",
    "    def __init__(self):\n",
    "        raise RuntimeError(f\"{self.__class__} is a namespace and should not be constructed\")\n",
    "    \n",
    "    @abc.abstractstaticmethod\n",
    "    def translate(point, offset, *args, **kwargs):\n",
    "        \"\"\"Translate a point `point` by offset `offset`\"\"\"\n",
    "    \n",
    "    @abc.abstractstaticmethod\n",
    "    def rotate(point, angle, *args, **kwargs):\n",
    "        \"\"\"Rotate a point by angle `angle`\"\"\"\n",
    "    \n",
    "    @classmethod\n",
    "    def rotate_in_coords(cls, point, angle, origin=None, *args, **kwargs):\n",
    "        \"\"\"Rotate in a new coordinate system defined by translation of the origin\"\"\"\n",
    "        if origin is None:\n",
    "            return cls.rotate(point, angle, *args)\n",
    "        \n",
    "        neg_origin = tuple(map(operator.neg, origin))\n",
    "\n",
    "        args = tuple(cls.translate(x, neg_origin) for x in args)\n",
    "        point = cls.translate(point, neg_origin)\n",
    "        \n",
    "        rotated = cls.rotate(point, angle, *args)\n",
    "\n",
    "        return cls.translate(rotated, origin)"
   ]
  },
  {
   "cell_type": "code",
   "execution_count": 33,
   "metadata": {
    "slideshow": {
     "slide_type": "skip"
    }
   },
   "outputs": [],
   "source": [
    "def _rotate_3d(point: Tuple[float, float, float],\n",
    "               angle: float,\n",
    "               axis: Tuple[float, float, float]) -> Tuple[float, float, float]:\n",
    "        # lol, too complicated, imma use numpy\n",
    "        point, u = (np.resize(v, (3, 1)) for v in (point, axis))\n",
    "        u = u / np.linalg.norm(axis)  # Unit vector\n",
    "        \n",
    "        # Construct rotation matrix\n",
    "        u_x = np.array([[0, -u[2], u[1]],\n",
    "                        [u[2], 0, -u[0]],\n",
    "                        [-u[1], u[0], 0]])\n",
    "        uu = u @ u.T\n",
    "        R = np.cos(angle) * np.identity(3) + np.sin(angle) * u_x + (1 - np.cos(angle)) * uu\n",
    "        \n",
    "        # Apply rotation\n",
    "        point = R @ point      # Rotate about the axis\n",
    "        \n",
    "        return tuple(round_float_errs(c) for c in map(float, point))\n",
    "\n",
    "def _rotate_2d(point, angle):\n",
    "        x, y = point\n",
    "        \n",
    "        x_out = x * math.cos(angle) - y * math.sin(angle)\n",
    "        y_out = x * math.sin(angle) + y * math.cos(angle)\n",
    "        \n",
    "        # Adjust the \n",
    "        x_out, y_out = map(round_float_errs, (x_out, y_out))\n",
    "\n",
    "        return (x_out, y_out)"
   ]
  },
  {
   "cell_type": "code",
   "execution_count": 34,
   "metadata": {
    "slideshow": {
     "slide_type": "skip"
    }
   },
   "outputs": [],
   "source": [
    "class Cartesian2D(CartesianBase):\n",
    "    @staticmethod\n",
    "    def translate(point: Tuple[float, float],\n",
    "                  offset: Tuple[float, float]) -> Tuple[float, float]:\n",
    "        return (point[0] + offset[0], point[1] + offset[1])\n",
    "    \n",
    "    @staticmethod\n",
    "    def rotate(point: Tuple[float, float], angle: float) -> Tuple[float, float]:\n",
    "        \"\"\"Rotate a point by angle `angle` about the origin\"\"\"\n",
    "        return _rotate_2d(point, angle)\n"
   ]
  },
  {
   "cell_type": "code",
   "execution_count": 35,
   "metadata": {
    "slideshow": {
     "slide_type": "skip"
    }
   },
   "outputs": [],
   "source": [
    "class Cartesian3D(CartesianBase):\n",
    "    @staticmethod\n",
    "    def translate(point: Tuple[float, float, float],\n",
    "                  offset: Tuple[float, float, float]) -> Tuple[float, float, float]:\n",
    "        return tuple(p + o for (p, o) in zip(point, offset))\n",
    "    \n",
    "    @staticmethod\n",
    "    def rotate(point: Tuple[float, float, float],\n",
    "               angle: float,\n",
    "               axis: Tuple[float, float, float]=(0.0, 0.0, 1.0)) -> Tuple[float, float, float]:\n",
    "        \"\"\"Rotate a point in 3 dimensions by an angle about a given axis\"\"\"\n",
    "        # See the source for the distractingly-long implementation of _rotate_3d\n",
    "        return _rotate_3d(point, angle, axis)\n",
    "        \n"
   ]
  },
  {
   "cell_type": "code",
   "execution_count": 36,
   "metadata": {
    "slideshow": {
     "slide_type": "skip"
    }
   },
   "outputs": [
    {
     "data": {
      "text/plain": [
       "(0.0, 1.0)"
      ]
     },
     "execution_count": 36,
     "metadata": {},
     "output_type": "execute_result"
    }
   ],
   "source": [
    "Cartesian2D.rotate((1, 0), math.pi/2)"
   ]
  },
  {
   "cell_type": "code",
   "execution_count": 37,
   "metadata": {
    "slideshow": {
     "slide_type": "skip"
    }
   },
   "outputs": [
    {
     "data": {
      "text/plain": [
       "(0.0, 1.0, 0.0)"
      ]
     },
     "execution_count": 37,
     "metadata": {},
     "output_type": "execute_result"
    }
   ],
   "source": [
    "Cartesian3D.rotate((1, 0, 0), math.pi / 2)"
   ]
  },
  {
   "cell_type": "code",
   "execution_count": 38,
   "metadata": {
    "slideshow": {
     "slide_type": "skip"
    }
   },
   "outputs": [
    {
     "data": {
      "text/plain": [
       "(0.5, 1.5)"
      ]
     },
     "execution_count": 38,
     "metadata": {},
     "output_type": "execute_result"
    }
   ],
   "source": [
    "Cartesian2D.rotate_in_coords((1, 0), math.pi / 2, origin=(0, 0.5))"
   ]
  },
  {
   "cell_type": "code",
   "execution_count": 39,
   "metadata": {
    "slideshow": {
     "slide_type": "skip"
    }
   },
   "outputs": [
    {
     "data": {
      "text/plain": [
       "(-1.0, 2.0, 0.0)"
      ]
     },
     "execution_count": 39,
     "metadata": {},
     "output_type": "execute_result"
    }
   ],
   "source": [
    "Cartesian3D.rotate_in_coords((1, 0, 0), math.pi / 2, origin=(-1, 0, 0))"
   ]
  },
  {
   "cell_type": "markdown",
   "metadata": {
    "slideshow": {
     "slide_type": "skip"
    }
   },
   "source": [
    "# `classmethod` vs `staticmethod`"
   ]
  },
  {
   "cell_type": "markdown",
   "metadata": {
    "slideshow": {
     "slide_type": "skip"
    }
   },
   "source": [
    "### Always use `classmethod` for:\n",
    "\n",
    "- Alternate constructors\n",
    "- Functions that reference other class or static methods on the class\n",
    "- If you need a reference to class properties or attributes\n",
    "<br/>\n",
    "<br/>\n",
    "### Can use `staticmethod` if:\n",
    "\n",
    "- You are simply namespacing a function under a class\n",
    "- Any behavior changes in subclasses will be solved with a new implementation\n"
   ]
  },
  {
   "cell_type": "markdown",
   "metadata": {
    "slideshow": {
     "slide_type": "skip"
    }
   },
   "source": [
    "## Can I always just use `classmethod`?\n",
    "- No significant additional functionality\n",
    "- Useful for restricting the ways an API can be used"
   ]
  },
  {
   "cell_type": "markdown",
   "metadata": {
    "slideshow": {
     "slide_type": "slide"
    }
   },
   "source": [
    "# Functions"
   ]
  },
  {
   "cell_type": "markdown",
   "metadata": {
    "slideshow": {
     "slide_type": "-"
    }
   },
   "source": [
    "What about *function* APIs like this?"
   ]
  },
  {
   "cell_type": "code",
   "execution_count": 40,
   "metadata": {
    "slideshow": {
     "slide_type": "skip"
    }
   },
   "outputs": [],
   "source": [
    "# TODO: Add *real life* examples of these things"
   ]
  },
  {
   "cell_type": "code",
   "execution_count": 41,
   "metadata": {},
   "outputs": [],
   "source": [
    "def print_text(path_or_buffer: Union[str, IO[str]], *args, **kwargs):\n",
    "    if isinstance(path_or_buffer, str):\n",
    "        with open(path_or_buffer, 'r') as f:\n",
    "            print_text(f, *args, **kwargs)\n",
    "    else:\n",
    "        print(path_or_buffer.read())"
   ]
  },
  {
   "cell_type": "markdown",
   "metadata": {
    "slideshow": {
     "slide_type": "fragment"
    }
   },
   "source": [
    "Or like this?"
   ]
  },
  {
   "cell_type": "markdown",
   "metadata": {
    "slideshow": {
     "slide_type": "fragment"
    }
   },
   "source": [
    "```python\n",
    "# dateutil.parser.parse's API\n",
    "def parse(timestr: str, **kwargs) -> Union[datetime.datetime,\n",
    "                                           Tuple[datetime.datetime, Tuple[str, ...]]]:\n",
    "    ...\n",
    "```"
   ]
  },
  {
   "cell_type": "code",
   "execution_count": 107,
   "metadata": {},
   "outputs": [
    {
     "data": {
      "text/plain": [
       "datetime.datetime(1951, 5, 13, 0, 0)"
      ]
     },
     "execution_count": 107,
     "metadata": {},
     "output_type": "execute_result"
    }
   ],
   "source": [
    "dateutil.parser.parse('John Ford was born May 13, 1951 in Remlap, Alabama', fuzzy=True)"
   ]
  },
  {
   "cell_type": "code",
   "execution_count": 108,
   "metadata": {},
   "outputs": [
    {
     "data": {
      "text/plain": [
       "(datetime.datetime(1951, 5, 13, 0, 0),\n",
       " ('John Ford was born ', ' ', ' ', 'in Remlap, Alabama'))"
      ]
     },
     "execution_count": 108,
     "metadata": {},
     "output_type": "execute_result"
    }
   ],
   "source": [
    "dateutil.parser.parse('John Ford was born May 13, 1951 in Remlap, Alabama', fuzzy_with_tokens=True)"
   ]
  },
  {
   "cell_type": "markdown",
   "metadata": {
    "slideshow": {
     "slide_type": "notes"
    }
   },
   "source": [
    "These types of APIs generally emerge when the task you're trying to achieve has two or more common use cases - like reading from a file path *or* a file-like object, or if a relatively niche workflow needs some information that is discarded as part of the computation process - like making a request and discarding its context; if 1% of people need the context, you don't want to return it 100% of the time and make 99% of people discard it."
   ]
  },
  {
   "cell_type": "code",
   "execution_count": 42,
   "metadata": {
    "slideshow": {
     "slide_type": "skip"
    }
   },
   "outputs": [
    {
     "name": "stdout",
     "output_type": "stream",
     "text": [
      "23.46\n",
      "(23.46, 4.843908891458577)\n"
     ]
    }
   ],
   "source": [
    "def somefunc(x: float, return_intermediate: bool=False) -> Union[float, Tuple[float, float]]:\n",
    "    intermediate = math.sqrt(x) + 3\n",
    "    \n",
    "    rv = round(intermediate ** 2, 2)\n",
    "    \n",
    "    if return_intermediate:\n",
    "        return rv, intermediate\n",
    "    \n",
    "    return rv\n",
    "\n",
    "print(somefunc(3.4))\n",
    "print(somefunc(3.4, return_intermediate=True))"
   ]
  },
  {
   "cell_type": "markdown",
   "metadata": {
    "slideshow": {
     "slide_type": "skip"
    }
   },
   "source": [
    "## Type checking"
   ]
  },
  {
   "cell_type": "code",
   "execution_count": 45,
   "metadata": {
    "slideshow": {
     "slide_type": "skip"
    }
   },
   "outputs": [],
   "source": [
    "%typecheck_clear"
   ]
  },
  {
   "cell_type": "code",
   "execution_count": 46,
   "metadata": {
    "slideshow": {
     "slide_type": "skip"
    }
   },
   "outputs": [],
   "source": [
    "%%typecheck run\n",
    "import math\n",
    "\n",
    "def somefunc_result(x: float) -> float:\n",
    "    return somefunc_with_intermediate(x)[0]\n",
    "\n",
    "def somefunc_with_intermediate(x: float) -> Tuple[float, float]:\n",
    "    intermediate = math.sqrt(x) + 3\n",
    "    rv = round(intermediate ** 2, 2)\n",
    "    \n",
    "    return rv, intermediate\n",
    "\n",
    "def somefunc(x: float, return_intermediate: bool=False) -> Union[float, Tuple[float, float]]:\n",
    "    if return_intermediate:\n",
    "        return somefunc_with_intermediate(x)\n",
    "    else:\n",
    "        return somefunc_result(x)\n",
    "    \n",
    "def less_than_5(x: float) -> bool:\n",
    "    return x < 5.0"
   ]
  },
  {
   "cell_type": "markdown",
   "metadata": {
    "slideshow": {
     "slide_type": "skip"
    }
   },
   "source": [
    "In addition to just being kinda complicated, it's also easy for these things to cause problems with type checkers, which may either emit erroneous warnings or miss errors, depending on how you write the static types."
   ]
  },
  {
   "cell_type": "code",
   "execution_count": 47,
   "metadata": {
    "slideshow": {
     "slide_type": "skip"
    }
   },
   "outputs": [
    {
     "name": "stdout",
     "output_type": "stream",
     "text": [
      "No type issues\n"
     ]
    }
   ],
   "source": [
    "%%typecheck report\n",
    "less_than_5(somefunc_result(3.5))    # No problem"
   ]
  },
  {
   "cell_type": "code",
   "execution_count": 48,
   "metadata": {
    "slideshow": {
     "slide_type": "skip"
    }
   },
   "outputs": [
    {
     "name": "stdout",
     "output_type": "stream",
     "text": [
      "<string>:22: error: Argument 1 to \"less_than_5\" has incompatible type \"Tuple[float, float]\"; expected \"float\"\n",
      "\n"
     ]
    }
   ],
   "source": [
    "%%typecheck report\n",
    "less_than_5(somefunc_with_intermediate(2.4))       # Error!\n",
    "# Argument 1 to \"is_foo\" has incompatible type \"Tuple[str, str]\"; expected \"str\"\n",
    "\n",
    "less_than_5(somefunc_with_intermediate(2.4)[0]);   # No problem"
   ]
  },
  {
   "cell_type": "code",
   "execution_count": 49,
   "metadata": {
    "slideshow": {
     "slide_type": "skip"
    }
   },
   "outputs": [
    {
     "name": "stdout",
     "output_type": "stream",
     "text": [
      "<string>:22: error: Argument 1 to \"less_than_5\" has incompatible type \"Union[float, Tuple[float, float]]\"; expected \"float\"\n",
      "\n"
     ]
    },
    {
     "data": {
      "text/plain": [
       "False"
      ]
     },
     "execution_count": 49,
     "metadata": {},
     "output_type": "execute_result"
    }
   ],
   "source": [
    "%%typecheck run\n",
    "less_than_5(somefunc(2.4));           # Error!\n",
    "# Argument 1 to \"is_foo\" has incompatible type \"Union[float, Tuple[float, float]]\"; expected \"float\""
   ]
  },
  {
   "cell_type": "code",
   "execution_count": 50,
   "metadata": {
    "slideshow": {
     "slide_type": "skip"
    }
   },
   "outputs": [],
   "source": [
    "%typecheck_clear"
   ]
  },
  {
   "cell_type": "markdown",
   "metadata": {
    "slideshow": {
     "slide_type": "slide"
    }
   },
   "source": [
    "# `variants`"
   ]
  },
  {
   "cell_type": "markdown",
   "metadata": {
    "slideshow": {
     "slide_type": "-"
    }
   },
   "source": [
    "## Desired API\n",
    "- `print_text(txt: str)` - Print text passed to this function"
   ]
  },
  {
   "cell_type": "markdown",
   "metadata": {
    "slideshow": {
     "slide_type": "fragment"
    }
   },
   "source": [
    "- `print_text.from_stream(sobj: IO[str])` - Print text from a stream"
   ]
  },
  {
   "cell_type": "markdown",
   "metadata": {
    "slideshow": {
     "slide_type": "fragment"
    }
   },
   "source": [
    "- `print_text.from_path(path_components: str)` - Open a file on disk and print its contents"
   ]
  },
  {
   "cell_type": "code",
   "execution_count": 51,
   "metadata": {
    "slideshow": {
     "slide_type": "fragment"
    }
   },
   "outputs": [],
   "source": [
    "import variants\n",
    "\n",
    "@variants.primary\n",
    "def print_text(txt: str):\n",
    "    \"\"\"Prints any text passed to this function\"\"\"\n",
    "    print(txt)"
   ]
  },
  {
   "cell_type": "code",
   "execution_count": 52,
   "metadata": {
    "slideshow": {
     "slide_type": "fragment"
    }
   },
   "outputs": [],
   "source": [
    "@print_text.variant('from_stream')\n",
    "def print_text(sobj: IO[str]):\n",
    "    \"\"\"Read text from a stream and print it\"\"\"\n",
    "    print_text(sobj.read())"
   ]
  },
  {
   "cell_type": "code",
   "execution_count": 53,
   "metadata": {
    "slideshow": {
     "slide_type": "fragment"
    }
   },
   "outputs": [],
   "source": [
    "import pathlib\n",
    "@print_text.variant('from_path')\n",
    "def print_text(path_components: Union[str, pathlib.Path]):\n",
    "    \"\"\"Open the file specified by `path_components` and print the contents\"\"\"\n",
    "    fpath = pathlib.Path(path_components)\n",
    "    with open(fpath, 'r') as f:\n",
    "        print_text.from_stream(f)"
   ]
  },
  {
   "cell_type": "markdown",
   "metadata": {
    "slideshow": {
     "slide_type": "subslide"
    }
   },
   "source": [
    "## Example use"
   ]
  },
  {
   "cell_type": "code",
   "execution_count": 54,
   "metadata": {
    "slideshow": {
     "slide_type": "-"
    }
   },
   "outputs": [
    {
     "name": "stdout",
     "output_type": "stream",
     "text": [
      "Hello, world\n"
     ]
    }
   ],
   "source": [
    "print_text('Hello, world')"
   ]
  },
  {
   "cell_type": "code",
   "execution_count": 55,
   "metadata": {
    "slideshow": {
     "slide_type": "-"
    }
   },
   "outputs": [
    {
     "name": "stdout",
     "output_type": "stream",
     "text": [
      "Hello, world! This is from a stream!\n"
     ]
    }
   ],
   "source": [
    "print_text.from_stream(StringIO('Hello, world! This is from a stream!'))"
   ]
  },
  {
   "cell_type": "code",
   "execution_count": 56,
   "metadata": {
    "slideshow": {
     "slide_type": "-"
    }
   },
   "outputs": [
    {
     "name": "stdout",
     "output_type": "stream",
     "text": [
      "Hello, world! This is from a file!\n",
      "\n"
     ]
    }
   ],
   "source": [
    "print_text.from_path('extras/hello_world.txt')"
   ]
  },
  {
   "cell_type": "markdown",
   "metadata": {
    "slideshow": {
     "slide_type": "slide"
    }
   },
   "source": [
    "## Explicit dispatch"
   ]
  },
  {
   "cell_type": "code",
   "execution_count": 57,
   "metadata": {
    "slideshow": {
     "slide_type": "skip"
    }
   },
   "outputs": [],
   "source": [
    "import requests"
   ]
  },
  {
   "cell_type": "code",
   "execution_count": 58,
   "metadata": {},
   "outputs": [],
   "source": [
    "@print_text.variant('from_url')\n",
    "def print_text(url):\n",
    "    r = requests.get(url)\n",
    "    print_text(r.text)"
   ]
  },
  {
   "cell_type": "code",
   "execution_count": 59,
   "metadata": {
    "slideshow": {
     "slide_type": "skip"
    }
   },
   "outputs": [],
   "source": [
    "# Ssssh! (Don't want a *real* runtime dependency on hitting the internet)\n",
    "@print_text.variant('from_url')\n",
    "def print_text(url):\n",
    "    try:\n",
    "        r = requests.get(url)\n",
    "    except Exception:\n",
    "        print_text(\"Hello, world! (from url)\")\n",
    "    print(r.text)"
   ]
  },
  {
   "cell_type": "code",
   "execution_count": 60,
   "metadata": {},
   "outputs": [
    {
     "name": "stdout",
     "output_type": "stream",
     "text": [
      "Hello, world!\n",
      "Hello, world! This is from a file!\n",
      "\n",
      "Hello, world! (from url)\n"
     ]
    }
   ],
   "source": [
    "print_text('Hello, world!')\n",
    "print_text.from_path('extras/hello_world.txt')\n",
    "print_text.from_url('https://ganssle.io/files/hello_world.txt')"
   ]
  },
  {
   "cell_type": "code",
   "execution_count": 61,
   "metadata": {
    "slideshow": {
     "slide_type": "skip"
    }
   },
   "outputs": [],
   "source": [
    "_print_text = print_text   # This gets redefined, but I want to keep it around"
   ]
  },
  {
   "cell_type": "markdown",
   "metadata": {
    "slideshow": {
     "slide_type": "subslide"
    }
   },
   "source": [
    "## Implicit dispatch: `singledispatch`"
   ]
  },
  {
   "cell_type": "code",
   "execution_count": 62,
   "metadata": {
    "slideshow": {
     "slide_type": "skip"
    }
   },
   "outputs": [],
   "source": [
    "import functools"
   ]
  },
  {
   "cell_type": "code",
   "execution_count": 63,
   "metadata": {
    "slideshow": {
     "slide_type": "skip"
    }
   },
   "outputs": [],
   "source": [
    "print_text = _print_text"
   ]
  },
  {
   "cell_type": "code",
   "execution_count": 64,
   "metadata": {},
   "outputs": [],
   "source": [
    "@functools.singledispatch\n",
    "def print_text_sd(txt: str):\n",
    "    print(txt)"
   ]
  },
  {
   "cell_type": "code",
   "execution_count": 65,
   "metadata": {
    "slideshow": {
     "slide_type": "fragment"
    }
   },
   "outputs": [],
   "source": [
    "from pathlib import Path\n",
    "\n",
    "@print_text_sd.register(Path)\n",
    "def _(path: Path):\n",
    "    print_text.from_path(path)"
   ]
  },
  {
   "cell_type": "code",
   "execution_count": 66,
   "metadata": {
    "slideshow": {
     "slide_type": "fragment"
    }
   },
   "outputs": [],
   "source": [
    "@dataclass\n",
    "class Url:\n",
    "    url: str\n",
    "\n",
    "@print_text_sd.register(Url)\n",
    "def _(url: Url):\n",
    "    print_text.from_url(url.url)\n",
    "\n"
   ]
  },
  {
   "cell_type": "code",
   "execution_count": 67,
   "metadata": {
    "slideshow": {
     "slide_type": "-"
    }
   },
   "outputs": [
    {
     "name": "stdout",
     "output_type": "stream",
     "text": [
      "Hello, world!\n",
      "Hello, world! This is from a file!\n",
      "\n",
      "Hello, world! (from url)\n"
     ]
    }
   ],
   "source": [
    "print_text_sd('Hello, world!')\n",
    "print_text_sd(Path('extras/hello_world.txt'))\n",
    "print_text_sd(Url('https://ganssle.io/files/hello_world.txt'))"
   ]
  },
  {
   "cell_type": "markdown",
   "metadata": {
    "slideshow": {
     "slide_type": "subslide"
    }
   },
   "source": [
    "### Why not both?"
   ]
  },
  {
   "cell_type": "code",
   "execution_count": 68,
   "metadata": {},
   "outputs": [],
   "source": [
    "@variants.primary\n",
    "@functools.singledispatch\n",
    "def print_text(txt: str):\n",
    "    print(txt)\n",
    "    \n",
    "@print_text.variant('from_path')           # Register the URL variant explicitly\n",
    "@print_text.register(Path)                 # And with singledispatch!\n",
    "def print_text(pth: Union[Path, str]):\n",
    "    with open(pth, 'rt') as f:\n",
    "        print_text(f.read())"
   ]
  },
  {
   "cell_type": "code",
   "execution_count": 69,
   "metadata": {
    "slideshow": {
     "slide_type": "fragment"
    }
   },
   "outputs": [
    {
     "name": "stdout",
     "output_type": "stream",
     "text": [
      "Hello, world!\n"
     ]
    }
   ],
   "source": [
    "print_text(\"Hello, world!\")"
   ]
  },
  {
   "cell_type": "code",
   "execution_count": 70,
   "metadata": {
    "slideshow": {
     "slide_type": "fragment"
    }
   },
   "outputs": [
    {
     "name": "stdout",
     "output_type": "stream",
     "text": [
      "Hello, world! This is from a file!\n",
      "\n",
      "Hello, world! This is from a file!\n",
      "\n"
     ]
    }
   ],
   "source": [
    "print_text(Path(\"extras/hello_world.txt\"))\n",
    "print_text.from_path(\"extras/hello_world.txt\")"
   ]
  },
  {
   "cell_type": "code",
   "execution_count": 71,
   "metadata": {
    "slideshow": {
     "slide_type": "fragment"
    }
   },
   "outputs": [
    {
     "name": "stdout",
     "output_type": "stream",
     "text": [
      "[Errno 2] No such file or directory: 'Hello, world'\n"
     ]
    }
   ],
   "source": [
    "try:\n",
    "    print_text.from_path(\"Hello, world\")\n",
    "except Exception as e:\n",
    "    print(e)"
   ]
  },
  {
   "cell_type": "markdown",
   "metadata": {
    "slideshow": {
     "slide_type": "slide"
    }
   },
   "source": [
    "## Variation in return type"
   ]
  },
  {
   "cell_type": "code",
   "execution_count": 72,
   "metadata": {},
   "outputs": [],
   "source": [
    "dtstr = 'It was 3AM on Sept 21, 1986'"
   ]
  },
  {
   "cell_type": "code",
   "execution_count": 73,
   "metadata": {},
   "outputs": [
    {
     "data": {
      "text/plain": [
       "datetime.datetime(1986, 9, 21, 3, 0)"
      ]
     },
     "execution_count": 73,
     "metadata": {},
     "output_type": "execute_result"
    }
   ],
   "source": [
    "dateutil.parser.parse(dtstr, fuzzy=True)"
   ]
  },
  {
   "cell_type": "code",
   "execution_count": 74,
   "metadata": {},
   "outputs": [
    {
     "data": {
      "text/plain": [
       "(datetime.datetime(1986, 9, 21, 3, 0), ('It was ', ' on ', ' ', ' '))"
      ]
     },
     "execution_count": 74,
     "metadata": {},
     "output_type": "execute_result"
    }
   ],
   "source": [
    "dateutil.parser.parse(dtstr, fuzzy_with_tokens=True)"
   ]
  },
  {
   "cell_type": "code",
   "execution_count": 110,
   "metadata": {
    "slideshow": {
     "slide_type": "fragment"
    }
   },
   "outputs": [],
   "source": [
    "@variants.primary\n",
    "def fuzzy_parse(dtstr: str, *args, **kwargs):\n",
    "    kwargs['fuzzy'] = True\n",
    "    return dateutil.parser.parse(dtstr, *args, **kwargs)\n",
    "\n",
    "@fuzzy_parse.variant('with_tokens')\n",
    "def fuzzy_parse(dtstr: str, *args, **kwargs) -> Tuple[datetime, Tuple[str, ...]]:\n",
    "    kwargs['fuzzy_with_tokens'] = True\n",
    "    return dateutil.parser.parse(dtstr, *args, **kwargs)"
   ]
  },
  {
   "cell_type": "code",
   "execution_count": 111,
   "metadata": {},
   "outputs": [
    {
     "data": {
      "text/plain": [
       "datetime.datetime(1986, 9, 21, 3, 0)"
      ]
     },
     "execution_count": 111,
     "metadata": {},
     "output_type": "execute_result"
    }
   ],
   "source": [
    "fuzzy_parse(dtstr)"
   ]
  },
  {
   "cell_type": "code",
   "execution_count": 112,
   "metadata": {},
   "outputs": [
    {
     "data": {
      "text/plain": [
       "(datetime.datetime(1986, 9, 21, 3, 0), ('It was ', ' on ', ' ', ' '))"
      ]
     },
     "execution_count": 112,
     "metadata": {},
     "output_type": "execute_result"
    }
   ],
   "source": [
    "fuzzy_parse.with_tokens(dtstr)"
   ]
  },
  {
   "cell_type": "markdown",
   "metadata": {
    "slideshow": {
     "slide_type": "slide"
    }
   },
   "source": [
    "## Variation in caching behavior"
   ]
  },
  {
   "cell_type": "code",
   "execution_count": 78,
   "metadata": {},
   "outputs": [],
   "source": [
    "from functools import lru_cache\n",
    "\n",
    "@variants.primary\n",
    "@lru_cache()\n",
    "def get_config():\n",
    "    return get_config.nocache()\n",
    "\n",
    "@get_config.variant('nocache')\n",
    "def get_config():\n",
    "    print(\"Retrieving configuration!\")\n",
    "    return {\n",
    "        'a1': 'value',\n",
    "        'b': 12348\n",
    "    }\n"
   ]
  },
  {
   "cell_type": "code",
   "execution_count": 79,
   "metadata": {
    "slideshow": {
     "slide_type": "fragment"
    }
   },
   "outputs": [
    {
     "name": "stdout",
     "output_type": "stream",
     "text": [
      "Retrieving configuration!\n"
     ]
    }
   ],
   "source": [
    "a = get_config()"
   ]
  },
  {
   "cell_type": "code",
   "execution_count": 80,
   "metadata": {},
   "outputs": [],
   "source": [
    "b = get_config()"
   ]
  },
  {
   "cell_type": "code",
   "execution_count": 81,
   "metadata": {},
   "outputs": [
    {
     "name": "stdout",
     "output_type": "stream",
     "text": [
      "Retrieving configuration!\n"
     ]
    }
   ],
   "source": [
    "c = get_config.nocache()"
   ]
  },
  {
   "cell_type": "markdown",
   "metadata": {
    "slideshow": {
     "slide_type": "slide"
    }
   },
   "source": [
    "## Variation in async behavior"
   ]
  },
  {
   "cell_type": "code",
   "execution_count": 82,
   "metadata": {
    "slideshow": {
     "slide_type": "-"
    }
   },
   "outputs": [],
   "source": [
    "import asyncio\n",
    "import time\n",
    "\n",
    "@variants.primary\n",
    "async def myfunc(n):\n",
    "    for i in range(n):\n",
    "        yield i\n",
    "        await asyncio.sleep(0.5)\n",
    "        \n",
    "@myfunc.variant('sync')\n",
    "def myfunc(n):\n",
    "    for i in range(n):\n",
    "        yield i\n",
    "        time.sleep(0.5)"
   ]
  },
  {
   "cell_type": "code",
   "execution_count": 83,
   "metadata": {
    "slideshow": {
     "slide_type": "fragment"
    }
   },
   "outputs": [
    {
     "data": {
      "text/plain": [
       "<async_generator object myfunc at 0x7fc164049b70>"
      ]
     },
     "execution_count": 83,
     "metadata": {},
     "output_type": "execute_result"
    }
   ],
   "source": [
    "myfunc(4)"
   ]
  },
  {
   "cell_type": "code",
   "execution_count": 84,
   "metadata": {},
   "outputs": [
    {
     "data": {
      "text/plain": [
       "<generator object myfunc at 0x7fc14a7036d8>"
      ]
     },
     "execution_count": 84,
     "metadata": {},
     "output_type": "execute_result"
    }
   ],
   "source": [
    "myfunc.sync(4)"
   ]
  },
  {
   "cell_type": "markdown",
   "metadata": {
    "slideshow": {
     "slide_type": "skip"
    }
   },
   "source": [
    "### Interfaces for breaking backwards compatibility"
   ]
  },
  {
   "cell_type": "code",
   "execution_count": 85,
   "metadata": {
    "slideshow": {
     "slide_type": "skip"
    }
   },
   "outputs": [],
   "source": [
    "# Python 2.6\n",
    "class PythonDict(dict):\n",
    "    def items(self):\n",
    "        return list(super().items())"
   ]
  },
  {
   "cell_type": "code",
   "execution_count": 86,
   "metadata": {
    "slideshow": {
     "slide_type": "skip"
    }
   },
   "outputs": [
    {
     "name": "stdout",
     "output_type": "stream",
     "text": [
      "[('one', 1), ('two', 2)]\n"
     ]
    }
   ],
   "source": [
    "d = PythonDict({'one': 1, 'two': 2})\n",
    "print(d.items())"
   ]
  },
  {
   "cell_type": "code",
   "execution_count": 87,
   "metadata": {
    "slideshow": {
     "slide_type": "skip"
    }
   },
   "outputs": [],
   "source": [
    "# Python 2.7\n",
    "class PythonDict(dict):\n",
    "    @variants.primary\n",
    "    def items(self):\n",
    "        return self.items.eager()\n",
    "    \n",
    "    @items.variant('lazy')\n",
    "    def items(self):\n",
    "        return super().items()\n",
    "    \n",
    "    @items.variant('eager')\n",
    "    def items(self):\n",
    "        return list(self.items.lazy())"
   ]
  },
  {
   "cell_type": "code",
   "execution_count": 88,
   "metadata": {
    "slideshow": {
     "slide_type": "skip"
    }
   },
   "outputs": [
    {
     "name": "stdout",
     "output_type": "stream",
     "text": [
      "[('one', 1), ('two', 2)]\n"
     ]
    }
   ],
   "source": [
    "d = PythonDict({'one': 1, 'two': 2})\n",
    "\n",
    "print(d.items())"
   ]
  },
  {
   "cell_type": "code",
   "execution_count": 89,
   "metadata": {
    "slideshow": {
     "slide_type": "skip"
    }
   },
   "outputs": [
    {
     "name": "stdout",
     "output_type": "stream",
     "text": [
      "dict_items([('one', 1), ('two', 2)])\n",
      "[('one', 1), ('two', 2)]\n"
     ]
    }
   ],
   "source": [
    "print(d.items.lazy())\n",
    "print(d.items.eager())"
   ]
  },
  {
   "cell_type": "code",
   "execution_count": 90,
   "metadata": {
    "slideshow": {
     "slide_type": "skip"
    }
   },
   "outputs": [],
   "source": [
    "# Python 3.0\n",
    "class PythonDict(dict):\n",
    "    @variants.primary\n",
    "    def items(self):\n",
    "        return self.items.lazy()\n",
    "    \n",
    "    @items.variant('lazy')\n",
    "    def items(self):\n",
    "        return super().items()\n",
    "    \n",
    "    @items.variant('eager')\n",
    "    def items(self):\n",
    "        return list(super().items())"
   ]
  },
  {
   "cell_type": "code",
   "execution_count": 91,
   "metadata": {
    "slideshow": {
     "slide_type": "skip"
    }
   },
   "outputs": [
    {
     "name": "stdout",
     "output_type": "stream",
     "text": [
      "dict_items([('one', 1), ('two', 2)])\n"
     ]
    }
   ],
   "source": [
    "d = PythonDict({'one': 1, 'two': 2})\n",
    "print(d.items())"
   ]
  },
  {
   "cell_type": "code",
   "execution_count": 92,
   "metadata": {
    "slideshow": {
     "slide_type": "skip"
    }
   },
   "outputs": [
    {
     "name": "stdout",
     "output_type": "stream",
     "text": [
      "dict_items([('one', 1), ('two', 2)])\n",
      "[('one', 1), ('two', 2)]\n"
     ]
    }
   ],
   "source": [
    "print(d.items.lazy())\n",
    "print(d.items.eager())"
   ]
  },
  {
   "cell_type": "code",
   "execution_count": 93,
   "metadata": {
    "slideshow": {
     "slide_type": "skip"
    }
   },
   "outputs": [],
   "source": [
    "import sys\n",
    "def warn(msg):\n",
    "    # Prevent leaking the path of the notebook for cosmetic reasons\n",
    "    print(msg, file=sys.stderr)"
   ]
  },
  {
   "cell_type": "code",
   "execution_count": 94,
   "metadata": {
    "slideshow": {
     "slide_type": "skip"
    }
   },
   "outputs": [],
   "source": [
    "# Python 3.8\n",
    "class PythonDict(dict):\n",
    "    @variants.primary\n",
    "    def items(self):\n",
    "        return self.items.lazy()\n",
    "    \n",
    "    @items.variant('lazy')\n",
    "    def items(self):\n",
    "        warn('Explicit use of lazy and eager variants is deprecated!\\n' +\n",
    "             'Use `PythonDict.items()` instead')\n",
    "        return super().items()\n",
    "    \n",
    "    @items.variant('eager')\n",
    "    def items(self):\n",
    "        warn('Explicit use of lazy and eager variants is deprecated!\\n' +\n",
    "             'Use `list(PythonDict.items())` instead')\n",
    "        return list(super().items())"
   ]
  },
  {
   "cell_type": "code",
   "execution_count": 95,
   "metadata": {
    "slideshow": {
     "slide_type": "skip"
    }
   },
   "outputs": [
    {
     "name": "stdout",
     "output_type": "stream",
     "text": [
      "dict_items([('one', 1), ('two', 2)])\n"
     ]
    },
    {
     "name": "stderr",
     "output_type": "stream",
     "text": [
      "Explicit use of lazy and eager variants is deprecated!\n",
      "Use `PythonDict.items()` instead\n"
     ]
    }
   ],
   "source": [
    "d = PythonDict({'one': 1, 'two': 2})\n",
    "print(d.items.lazy())"
   ]
  },
  {
   "cell_type": "code",
   "execution_count": 96,
   "metadata": {
    "slideshow": {
     "slide_type": "skip"
    }
   },
   "outputs": [
    {
     "name": "stdout",
     "output_type": "stream",
     "text": [
      "[('one', 1), ('two', 2)]\n"
     ]
    },
    {
     "name": "stderr",
     "output_type": "stream",
     "text": [
      "Explicit use of lazy and eager variants is deprecated!\n",
      "Use `list(PythonDict.items())` instead\n"
     ]
    }
   ],
   "source": [
    "print(d.items.eager())"
   ]
  },
  {
   "cell_type": "markdown",
   "metadata": {
    "slideshow": {
     "slide_type": "slide"
    }
   },
   "source": [
    "# Syntactic marking of relatedness"
   ]
  },
  {
   "cell_type": "markdown",
   "metadata": {},
   "source": [
    "## Compare to naming convention (e.g. underscores)"
   ]
  },
  {
   "cell_type": "code",
   "execution_count": 113,
   "metadata": {},
   "outputs": [],
   "source": [
    "def coordinate_from_string(coord_str: str) -> Coordinate:\n",
    "    return Coordinate.from_str(coord_str)"
   ]
  },
  {
   "cell_type": "code",
   "execution_count": 114,
   "metadata": {},
   "outputs": [
    {
     "name": "stdout",
     "output_type": "stream",
     "text": [
      "Hello, world! This is from a file!\n",
      "\n"
     ]
    }
   ],
   "source": [
    "def print_text_from_path(fpath: Union[str, pathlib.Path]):\n",
    "    print_text.from_path(fpath)\n",
    "    \n",
    "print_text_from_path('extras/hello_world.txt')"
   ]
  },
  {
   "cell_type": "markdown",
   "metadata": {
    "slideshow": {
     "slide_type": "notes"
    }
   },
   "source": [
    "- Variants are namespaced *under* the primary variant:\n",
    "    - Tab completion helps discovery of variant functions\n",
    "    - \"Top level\" API is kept as clean as possible"
   ]
  },
  {
   "cell_type": "markdown",
   "metadata": {
    "slideshow": {
     "slide_type": "subslide"
    }
   },
   "source": [
    "## Clean top-level APIs: Documentation"
   ]
  },
  {
   "cell_type": "markdown",
   "metadata": {},
   "source": [
    "Using the `sphinx_autodoc_variants` sphinx extension:\n",
    "\n",
    "```rst\n",
    ".. automodule:: text_print\n",
    "    :members:\n",
    "```"
   ]
  },
  {
   "cell_type": "markdown",
   "metadata": {},
   "source": [
    "![text_print module documentation](images/sphinx_docs_image.png)"
   ]
  },
  {
   "cell_type": "markdown",
   "metadata": {
    "slideshow": {
     "slide_type": "subslide"
    }
   },
   "source": [
    "## Clean top-level APIs: Completion"
   ]
  },
  {
   "cell_type": "markdown",
   "metadata": {
    "slideshow": {
     "slide_type": "-"
    }
   },
   "source": [
    "### Flat namespace:\n",
    "\n",
    "![autocomplete - no variants](images/completion_messy.png)"
   ]
  },
  {
   "cell_type": "markdown",
   "metadata": {
    "slideshow": {
     "slide_type": "fragment"
    }
   },
   "source": [
    "### Function variants:\n",
    "\n",
    "![autocomplete - no variants](images/completion_clean.png)"
   ]
  },
  {
   "cell_type": "markdown",
   "metadata": {
    "slideshow": {
     "slide_type": "fragment"
    }
   },
   "source": [
    "![autocomplete - no variants](images/completion_print_text.png)"
   ]
  },
  {
   "cell_type": "markdown",
   "metadata": {
    "slideshow": {
     "slide_type": "slide"
    }
   },
   "source": [
    "# `Talk.end()`"
   ]
  },
  {
   "cell_type": "markdown",
   "metadata": {
    "slideshow": {
     "slide_type": "slide"
    }
   },
   "source": [
    "# `Talk.end.with_plugs()`"
   ]
  },
  {
   "cell_type": "markdown",
   "metadata": {
    "slideshow": {
     "slide_type": "-"
    }
   },
   "source": [
    "- Find `variants`:\n",
    "  - PyPI: `variants`: https://pypi.org/project/variants/\n",
    "  - Github: https://github.com/python-variants/variants"
   ]
  },
  {
   "cell_type": "markdown",
   "metadata": {},
   "source": [
    "## Upcoming Events"
   ]
  },
  {
   "cell_type": "markdown",
   "metadata": {},
   "source": [
    "### PyData NYC 2018 - October 17-19\n",
    "### \"Contributing to Open Source: A Guide\" - Thursday 10:50AM"
   ]
  },
  {
   "cell_type": "markdown",
   "metadata": {},
   "source": [
    "### Packaging Sprint at Bloomberg (NYC/London) - October 27/28\n",
    "- Packaging Sprints: https://wiki.python.org/psf/PackagingSprints"
   ]
  },
  {
   "cell_type": "raw",
   "metadata": {},
   "source": [
    "<div style=\"text-align:center\"><img src=\"images/pganssle-logos.svg\" style=\"border: 0px; box-shadow: none; height: 40px; display:inline\"></div>"
   ]
  }
 ],
 "metadata": {
  "celltoolbar": "Slideshow",
  "kernelspec": {
   "display_name": "Python 3",
   "language": "python",
   "name": "python3"
  },
  "language_info": {
   "codemirror_mode": {
    "name": "ipython",
    "version": 3
   },
   "file_extension": ".py",
   "mimetype": "text/x-python",
   "name": "python",
   "nbconvert_exporter": "python",
   "pygments_lexer": "ipython3",
   "version": "3.7.0"
  },
  "nbpresent": {
   "slides": {
    "08cbf3b7-09bf-4e2d-a7bb-669bef598000": {
     "id": "08cbf3b7-09bf-4e2d-a7bb-669bef598000",
     "prev": "e66ce0b2-0da8-4e70-b485-bc633ae610b1",
     "regions": {
      "4886cbf0-e3dd-4e82-a981-fa6d3b8e8c7e": {
       "attrs": {
        "height": 0.4,
        "width": 0.8,
        "x": 0.1,
        "y": 0.5
       },
       "content": {
        "cell": "04d99eed-ab07-47dc-9744-bcb0f0c1cc79",
        "part": "whole"
       },
       "id": "4886cbf0-e3dd-4e82-a981-fa6d3b8e8c7e"
      },
      "4fd83263-2c77-4142-b443-d67c15873a27": {
       "attrs": {
        "height": 0.4,
        "width": 0.8,
        "x": 0.1,
        "y": 0.5
       },
       "content": {
        "cell": "10a7d89b-3ab4-4174-9469-9130a6633d13",
        "part": "whole"
       },
       "id": "4fd83263-2c77-4142-b443-d67c15873a27"
      },
      "f046a812-85a3-4f5d-a06e-0a2f7113dfb6": {
       "attrs": {
        "height": 0.4,
        "width": 0.8,
        "x": 0.1,
        "y": 0.5
       },
       "content": {
        "cell": "0960c080-94ec-491c-9054-2ce4800da44e",
        "part": "whole"
       },
       "id": "f046a812-85a3-4f5d-a06e-0a2f7113dfb6"
      },
      "f8172fed-7a45-49b9-a4c7-734c79195fd8": {
       "attrs": {
        "height": 0.8,
        "width": 0.8,
        "x": 0.1,
        "y": 0.1
       },
       "content": {
        "cell": "2c7a7f15-280a-4ca1-8752-5852f2883b0e",
        "part": "whole"
       },
       "id": "f8172fed-7a45-49b9-a4c7-734c79195fd8"
      }
     }
    },
    "2f08fc76-506a-436a-a001-57cd459bc10e": {
     "id": "2f08fc76-506a-436a-a001-57cd459bc10e",
     "prev": "72eab6bc-5c13-48f0-bbdd-55c413e7356c",
     "regions": {
      "32e25f03-3d86-49ad-b4d1-d85dfb16658e": {
       "attrs": {
        "height": 0.8,
        "width": 0.8,
        "x": 0.1,
        "y": 0.1
       },
       "content": {
        "cell": "3f0d0a60-76bb-4da1-bd78-422dd3f03aa9",
        "part": "whole"
       },
       "id": "32e25f03-3d86-49ad-b4d1-d85dfb16658e"
      },
      "5839e18b-9098-47b8-bd8a-98935c00e1e5": {
       "attrs": {
        "height": 0.4,
        "width": 0.8,
        "x": 0.1,
        "y": 0.5
       },
       "content": {
        "cell": "3a9a3ce1-90c6-40e2-ad2a-934079abea25",
        "part": "whole"
       },
       "id": "5839e18b-9098-47b8-bd8a-98935c00e1e5"
      }
     }
    },
    "2f0cb708-e8f5-4bc4-8e52-6d0510cc2f7e": {
     "id": "2f0cb708-e8f5-4bc4-8e52-6d0510cc2f7e",
     "prev": "e2348bdb-3ba2-45f4-ad55-415ed9ff5540",
     "regions": {
      "419de7ca-967b-43cc-a106-ec2945ef5786": {
       "attrs": {
        "height": 0.4,
        "width": 0.8,
        "x": 0.1,
        "y": 0.5
       },
       "content": {
        "cell": "2f1f753d-37c5-497a-ae5c-0c533ed54e91",
        "part": "whole"
       },
       "id": "419de7ca-967b-43cc-a106-ec2945ef5786"
      },
      "508182a7-bb0f-45d4-bd0e-f3557f567d95": {
       "attrs": {
        "height": 0.8,
        "width": 0.8,
        "x": 0.1,
        "y": 0.1
       },
       "content": {
        "cell": "3f4cd2d0-3b8e-40b3-ba6b-0853c8a8b46e",
        "part": "whole"
       },
       "id": "508182a7-bb0f-45d4-bd0e-f3557f567d95"
      },
      "f55c88ee-fc85-4c09-804f-d48a7b7506e0": {
       "attrs": {
        "height": 0.4,
        "width": 0.8,
        "x": 0.1,
        "y": 0.5
       },
       "content": {
        "cell": "b26d27b2-1e68-4ba5-8d98-a8141448d9e5",
        "part": "whole"
       },
       "id": "f55c88ee-fc85-4c09-804f-d48a7b7506e0"
      }
     }
    },
    "350a7bd9-42fc-4394-b958-5afe2d830238": {
     "id": "350a7bd9-42fc-4394-b958-5afe2d830238",
     "prev": "4be02312-304d-4f97-928e-5ff23e461620",
     "regions": {
      "3f1464dd-8225-4a40-a95b-2a462269b3ec": {
       "attrs": {
        "height": 0.8,
        "width": 0.8,
        "x": 0.1,
        "y": 0.1
       },
       "content": {
        "cell": "a611d48a-6bcb-4274-bae3-6d50512fdf09",
        "part": "whole"
       },
       "id": "3f1464dd-8225-4a40-a95b-2a462269b3ec"
      },
      "5f43454d-d4c1-4f03-9c62-e719e2352322": {
       "attrs": {
        "height": 0.4,
        "width": 0.8,
        "x": 0.1,
        "y": 0.5
       },
       "content": {
        "cell": "34cc706b-ff2f-45b8-ba7b-59b75135c02e",
        "part": "whole"
       },
       "id": "5f43454d-d4c1-4f03-9c62-e719e2352322"
      },
      "603befb3-2674-436e-b07a-27aea83ee9b7": {
       "attrs": {
        "height": 0.4,
        "width": 0.8,
        "x": 0.1,
        "y": 0.5
       },
       "content": {
        "cell": "dc9b5653-368a-44d0-b35d-748971617072",
        "part": "whole"
       },
       "id": "603befb3-2674-436e-b07a-27aea83ee9b7"
      },
      "67cf9ace-457c-4b98-b291-9718aaa54a9f": {
       "attrs": {
        "height": 0.4,
        "width": 0.8,
        "x": 0.1,
        "y": 0.5
       },
       "content": {
        "cell": "c851bd48-df5a-4be0-b178-67a8404cbc62",
        "part": "whole"
       },
       "id": "67cf9ace-457c-4b98-b291-9718aaa54a9f"
      },
      "d9ff66ec-d319-4e2f-9073-99aea3073caf": {
       "attrs": {
        "height": 0.4,
        "width": 0.8,
        "x": 0.1,
        "y": 0.5
       },
       "content": {
        "cell": "60323647-c87d-41cc-b73c-36e97b2907bd",
        "part": "whole"
       },
       "id": "d9ff66ec-d319-4e2f-9073-99aea3073caf"
      }
     }
    },
    "3c973d6a-e9bc-4213-abb0-69a8d748a364": {
     "id": "3c973d6a-e9bc-4213-abb0-69a8d748a364",
     "prev": "08cbf3b7-09bf-4e2d-a7bb-669bef598000",
     "regions": {
      "34acf9a1-ec8f-4d55-a554-b05fce65f9e7": {
       "attrs": {
        "height": 0.4,
        "width": 0.8,
        "x": 0.1,
        "y": 0.5
       },
       "content": {
        "cell": "da2c8567-4cc4-4e60-be05-9f015217bde4",
        "part": "whole"
       },
       "id": "34acf9a1-ec8f-4d55-a554-b05fce65f9e7"
      },
      "4ac89145-2170-44da-a9c8-38edba56c308": {
       "attrs": {
        "height": 0.4,
        "width": 0.8,
        "x": 0.1,
        "y": 0.5
       },
       "content": {
        "cell": "5f071bae-78eb-43a4-ae01-5d3e48c59ba9",
        "part": "whole"
       },
       "id": "4ac89145-2170-44da-a9c8-38edba56c308"
      },
      "b78806ae-ae82-4852-8297-7f8f10146dce": {
       "attrs": {
        "height": 0.4,
        "width": 0.8,
        "x": 0.1,
        "y": 0.5
       },
       "content": {
        "cell": "f88a5291-5045-4a53-bc2d-cad368570417",
        "part": "whole"
       },
       "id": "b78806ae-ae82-4852-8297-7f8f10146dce"
      },
      "c24e3f04-cf7c-437f-ad6a-cca33993bb4d": {
       "attrs": {
        "height": 0.8,
        "width": 0.8,
        "x": 0.1,
        "y": 0.1
       },
       "content": {
        "cell": "110c0454-5a9c-4754-a379-2f8bbf5387f0",
        "part": "whole"
       },
       "id": "c24e3f04-cf7c-437f-ad6a-cca33993bb4d"
      },
      "f2bf53a8-af82-43b6-9768-47ad9df1abc8": {
       "attrs": {
        "height": 0.4,
        "width": 0.8,
        "x": 0.1,
        "y": 0.5
       },
       "content": {
        "cell": "a09f3100-3c5c-4e41-ab49-f204406d9727",
        "part": "whole"
       },
       "id": "f2bf53a8-af82-43b6-9768-47ad9df1abc8"
      }
     }
    },
    "3f2767d4-1685-48e2-9396-efb6cbbc61dc": {
     "id": "3f2767d4-1685-48e2-9396-efb6cbbc61dc",
     "prev": "fa8362df-d0d0-4967-b2ce-0bc24b041a7b",
     "regions": {
      "394e691c-6357-4a45-9584-37844ec03621": {
       "attrs": {
        "height": 0.4,
        "width": 0.8,
        "x": 0.1,
        "y": 0.5
       },
       "content": {
        "cell": "4d00ecb6-3fef-4f2d-be90-3eb3e072be9a",
        "part": "whole"
       },
       "id": "394e691c-6357-4a45-9584-37844ec03621"
      },
      "3f08aa5d-8ea8-4f3f-bab4-68fbe3e8f4e0": {
       "attrs": {
        "height": 0.4,
        "width": 0.8,
        "x": 0.1,
        "y": 0.5
       },
       "content": {
        "cell": "cda597e6-aed9-478f-9bec-db309fc7cee3",
        "part": "whole"
       },
       "id": "3f08aa5d-8ea8-4f3f-bab4-68fbe3e8f4e0"
      },
      "42c0b288-525b-4aa3-9451-e999a2af27c4": {
       "attrs": {
        "height": 0.4,
        "width": 0.8,
        "x": 0.1,
        "y": 0.5
       },
       "content": {
        "cell": "0c8084cb-dc2d-445f-b87a-1ee52c5826cb",
        "part": "whole"
       },
       "id": "42c0b288-525b-4aa3-9451-e999a2af27c4"
      },
      "90c7ddab-b5a4-45a0-a18d-03b871cfdb0f": {
       "attrs": {
        "height": 0.8,
        "width": 0.8,
        "x": 0.1,
        "y": 0.1
       },
       "content": {
        "cell": "b95f0af4-9089-4a02-8173-fc2051d161f6",
        "part": "whole"
       },
       "id": "90c7ddab-b5a4-45a0-a18d-03b871cfdb0f"
      }
     }
    },
    "4be02312-304d-4f97-928e-5ff23e461620": {
     "id": "4be02312-304d-4f97-928e-5ff23e461620",
     "prev": "78715b1e-7d4a-4385-90ee-d04faae5b7ce",
     "regions": {
      "395c9d4f-7c41-42a5-899b-b496a52b6656": {
       "attrs": {
        "height": 0.4,
        "width": 0.8,
        "x": 0.1,
        "y": 0.5
       },
       "content": {
        "cell": "38713a58-b89e-44f7-9317-82c232b11bb6",
        "part": "whole"
       },
       "id": "395c9d4f-7c41-42a5-899b-b496a52b6656"
      },
      "d5aa9431-911b-402e-bb85-9f3b4f9cde52": {
       "attrs": {
        "height": 0.8,
        "width": 0.8,
        "x": 0.1,
        "y": 0.1
       },
       "content": {
        "cell": "26b2096e-cf66-4f15-85a7-123f6faebe71",
        "part": "whole"
       },
       "id": "d5aa9431-911b-402e-bb85-9f3b4f9cde52"
      }
     }
    },
    "66da7c99-5473-4fde-abc5-14ff1f24944c": {
     "id": "66da7c99-5473-4fde-abc5-14ff1f24944c",
     "prev": null,
     "regions": {
      "cddc6c40-2f5a-4772-a542-863ce74bcee0": {
       "attrs": {
        "height": 0.8,
        "width": 0.8,
        "x": 0.1,
        "y": 0.1
       },
       "content": {
        "cell": "8043c60e-9264-43a5-93d5-3f81e76a08e9",
        "part": "whole"
       },
       "id": "cddc6c40-2f5a-4772-a542-863ce74bcee0"
      }
     },
     "theme": null
    },
    "72eab6bc-5c13-48f0-bbdd-55c413e7356c": {
     "id": "72eab6bc-5c13-48f0-bbdd-55c413e7356c",
     "prev": "2f0cb708-e8f5-4bc4-8e52-6d0510cc2f7e",
     "regions": {
      "1c21434a-1960-4afc-a8c7-96827c8101c1": {
       "attrs": {
        "height": 0.4,
        "width": 0.8,
        "x": 0.1,
        "y": 0.5
       },
       "content": {
        "cell": "3ef7ac4e-85c1-42dc-a24c-c8bd919b02c3",
        "part": "whole"
       },
       "id": "1c21434a-1960-4afc-a8c7-96827c8101c1"
      },
      "227aa851-2359-4f67-8e38-56f78964a3a2": {
       "attrs": {
        "height": 0.8,
        "width": 0.8,
        "x": 0.1,
        "y": 0.1
       },
       "content": {
        "cell": "917e35fa-a529-4d20-91b8-683a9d7958ad",
        "part": "whole"
       },
       "id": "227aa851-2359-4f67-8e38-56f78964a3a2"
      },
      "784b3013-ba7a-45be-80fd-fafff32e654c": {
       "attrs": {
        "height": 0.4,
        "width": 0.8,
        "x": 0.1,
        "y": 0.5
       },
       "content": {
        "cell": "33fc71bd-0869-4ee4-ad97-77d17dfe9060",
        "part": "whole"
       },
       "id": "784b3013-ba7a-45be-80fd-fafff32e654c"
      }
     }
    },
    "77c56d86-ac62-441a-b637-c28c416c0f3b": {
     "id": "77c56d86-ac62-441a-b637-c28c416c0f3b",
     "prev": "350a7bd9-42fc-4394-b958-5afe2d830238",
     "regions": {
      "308dd9d6-9ef2-44a9-9be3-bdba35e97b3d": {
       "attrs": {
        "height": 0.4,
        "width": 0.8,
        "x": 0.1,
        "y": 0.5
       },
       "content": {
        "cell": "59e970ae-5206-4784-a215-497dd643e915",
        "part": "whole"
       },
       "id": "308dd9d6-9ef2-44a9-9be3-bdba35e97b3d"
      },
      "71265642-930c-411b-be49-2e96ef5f99bc": {
       "attrs": {
        "height": 0.4,
        "width": 0.8,
        "x": 0.1,
        "y": 0.5
       },
       "content": {
        "cell": "10eba1b2-e23e-4a6d-b65b-501be28a364b",
        "part": "whole"
       },
       "id": "71265642-930c-411b-be49-2e96ef5f99bc"
      },
      "b619ae6f-5599-4197-a836-840fcb342956": {
       "attrs": {
        "height": 0.8,
        "width": 0.8,
        "x": 0.1,
        "y": 0.1
       },
       "content": {
        "cell": "29a0fbc7-b7f2-4421-982c-e7a07f1bde16",
        "part": "whole"
       },
       "id": "b619ae6f-5599-4197-a836-840fcb342956"
      }
     }
    },
    "784b9f54-8d1f-44b3-a3ef-478627ee3d66": {
     "id": "784b9f54-8d1f-44b3-a3ef-478627ee3d66",
     "prev": "dadb12e3-ae58-4c42-b0ea-06373c4a431c",
     "regions": {
      "39a7a53d-fbd5-4d48-bb6b-b61cc2d3fd5b": {
       "attrs": {
        "height": 0.4,
        "width": 0.8,
        "x": 0.1,
        "y": 0.5
       },
       "content": {
        "cell": "3708d043-1fa9-40dc-b5c2-d87028af4282",
        "part": "whole"
       },
       "id": "39a7a53d-fbd5-4d48-bb6b-b61cc2d3fd5b"
      },
      "4acf35f1-15bf-466a-95f0-5b23c636d8e0": {
       "attrs": {
        "height": 0.8,
        "width": 0.8,
        "x": 0.1,
        "y": 0.1
       },
       "content": {
        "cell": "e48e5499-6521-4dda-9d21-d15ee6642fc0",
        "part": "whole"
       },
       "id": "4acf35f1-15bf-466a-95f0-5b23c636d8e0"
      },
      "95a037ef-83fc-4a0b-8d43-6025c0b2de7c": {
       "attrs": {
        "height": 0.4,
        "width": 0.8,
        "x": 0.1,
        "y": 0.5
       },
       "content": {
        "cell": "3cebb4b0-5d5f-42b0-97eb-21415802a73c",
        "part": "whole"
       },
       "id": "95a037ef-83fc-4a0b-8d43-6025c0b2de7c"
      },
      "e85a7ad4-36ca-49f6-87ff-20a51cd777cb": {
       "attrs": {
        "height": 0.4,
        "width": 0.8,
        "x": 0.1,
        "y": 0.5
       },
       "content": {
        "cell": "da5dfe07-74dc-4d06-9294-8c48143fac79",
        "part": "whole"
       },
       "id": "e85a7ad4-36ca-49f6-87ff-20a51cd777cb"
      }
     }
    },
    "78715b1e-7d4a-4385-90ee-d04faae5b7ce": {
     "id": "78715b1e-7d4a-4385-90ee-d04faae5b7ce",
     "prev": "784b9f54-8d1f-44b3-a3ef-478627ee3d66",
     "regions": {
      "121cac40-dd0d-42e0-8354-ff86e9be2c4a": {
       "attrs": {
        "height": 0.4,
        "width": 0.8,
        "x": 0.1,
        "y": 0.5
       },
       "content": {
        "cell": "05aa375c-84bd-4032-989d-c3dbf618ff9c",
        "part": "whole"
       },
       "id": "121cac40-dd0d-42e0-8354-ff86e9be2c4a"
      },
      "353d960f-eccd-4329-9fe4-1e05fc87d7df": {
       "attrs": {
        "height": 0.8,
        "width": 0.8,
        "x": 0.1,
        "y": 0.1
       },
       "content": {
        "cell": "c6900de4-08a9-46b1-acc4-8fe534c613f9",
        "part": "whole"
       },
       "id": "353d960f-eccd-4329-9fe4-1e05fc87d7df"
      },
      "97d037ea-837b-48ac-805d-d392246ad489": {
       "attrs": {
        "height": 0.4,
        "width": 0.8,
        "x": 0.1,
        "y": 0.5
       },
       "content": {
        "cell": "64d92b3d-127c-4ced-964c-f86a93db8487",
        "part": "whole"
       },
       "id": "97d037ea-837b-48ac-805d-d392246ad489"
      },
      "de401a81-2c80-4452-869c-763e261781da": {
       "attrs": {
        "height": 0.4,
        "width": 0.8,
        "x": 0.1,
        "y": 0.5
       },
       "content": {
        "cell": "dc279304-7d4d-4030-9fb4-ba45a5937d35",
        "part": "whole"
       },
       "id": "de401a81-2c80-4452-869c-763e261781da"
      }
     }
    },
    "809c5d54-cb2b-4ee6-b489-5be655e7f76a": {
     "id": "809c5d54-cb2b-4ee6-b489-5be655e7f76a",
     "prev": "ce512c0b-94ce-43fa-bbc6-3f226d4bbf5a",
     "regions": {
      "2ecffdb9-e84b-4c01-9dff-b3749a4b4af7": {
       "attrs": {
        "height": 0.4,
        "width": 0.8,
        "x": 0.1,
        "y": 0.5
       },
       "content": {
        "cell": "6e6c3715-7bbe-4842-a007-8b6a410efe24",
        "part": "whole"
       },
       "id": "2ecffdb9-e84b-4c01-9dff-b3749a4b4af7"
      },
      "6a241d03-ae96-43ef-bb10-4e3786697390": {
       "attrs": {
        "height": 0.4,
        "width": 0.8,
        "x": 0.1,
        "y": 0.5
       },
       "content": {
        "cell": "9cdb3b68-bb7d-4ca5-96c1-cbfd571dcfd0",
        "part": "whole"
       },
       "id": "6a241d03-ae96-43ef-bb10-4e3786697390"
      },
      "ce126b3a-e547-44a5-96c4-20595ead57b1": {
       "attrs": {
        "height": 0.4,
        "width": 0.8,
        "x": 0.1,
        "y": 0.5
       },
       "content": {
        "cell": "f74d10b8-0fff-463a-afe4-1e944732061c",
        "part": "whole"
       },
       "id": "ce126b3a-e547-44a5-96c4-20595ead57b1"
      },
      "cf10ddc0-4b09-4485-be24-b89051adfa36": {
       "attrs": {
        "height": 0.4,
        "width": 0.8,
        "x": 0.1,
        "y": 0.5
       },
       "content": {
        "cell": "41a186e7-808d-499a-a6df-7163d743be8b",
        "part": "whole"
       },
       "id": "cf10ddc0-4b09-4485-be24-b89051adfa36"
      },
      "d7569640-ce29-48be-aecb-d8c8a3c09907": {
       "attrs": {
        "height": 0.8,
        "width": 0.8,
        "x": 0.1,
        "y": 0.1
       },
       "content": {
        "cell": "dc9f19bc-dcc4-443c-b27e-e8c074f0223b",
        "part": "whole"
       },
       "id": "d7569640-ce29-48be-aecb-d8c8a3c09907"
      }
     }
    },
    "b27537c7-1de5-4549-8ab3-8616f123d906": {
     "id": "b27537c7-1de5-4549-8ab3-8616f123d906",
     "prev": "3c973d6a-e9bc-4213-abb0-69a8d748a364",
     "regions": {
      "defdfd03-c438-4b11-9bc7-d70581ff70ec": {
       "attrs": {
        "height": 0.8,
        "width": 0.8,
        "x": 0.1,
        "y": 0.1
       },
       "content": {
        "cell": "002aa7af-e7f3-4a01-a554-99e1227d79f3",
        "part": "whole"
       },
       "id": "defdfd03-c438-4b11-9bc7-d70581ff70ec"
      }
     }
    },
    "b407c083-3f01-4305-953e-7ba26fd64b5d": {
     "id": "b407c083-3f01-4305-953e-7ba26fd64b5d",
     "prev": "b27537c7-1de5-4549-8ab3-8616f123d906",
     "regions": {
      "71158419-75d5-4a45-82cb-b3a26c161fe3": {
       "attrs": {
        "height": 0.8,
        "width": 0.8,
        "x": 0.1,
        "y": 0.1
       },
       "content": {
        "cell": "f1dc73f9-8745-40ed-b00d-07a740b457f5",
        "part": "whole"
       },
       "id": "71158419-75d5-4a45-82cb-b3a26c161fe3"
      },
      "f22190a5-b3d3-4ba1-bc51-4098d3285f85": {
       "attrs": {
        "height": 0.4,
        "width": 0.8,
        "x": 0.1,
        "y": 0.5
       },
       "content": {
        "cell": "e29656f8-7417-4f5f-972a-02d4568419c5",
        "part": "whole"
       },
       "id": "f22190a5-b3d3-4ba1-bc51-4098d3285f85"
      }
     }
    },
    "bed18a91-f54c-4106-9447-9dc97d33ace4": {
     "id": "bed18a91-f54c-4106-9447-9dc97d33ace4",
     "prev": "fe3da8de-836b-4889-a4ab-629b26217b67",
     "regions": {
      "d6b7dcb3-bef5-44e8-b74b-c142df5ebba2": {
       "attrs": {
        "height": 0.8,
        "width": 0.8,
        "x": 0.1,
        "y": 0.1
       },
       "content": {
        "cell": "ae4b457d-959b-41ca-8571-92c70a2dc5a6",
        "part": "whole"
       },
       "id": "d6b7dcb3-bef5-44e8-b74b-c142df5ebba2"
      }
     }
    },
    "c4d2da00-bd89-4407-8579-aa26076c58f0": {
     "id": "c4d2da00-bd89-4407-8579-aa26076c58f0",
     "prev": "ef8678ac-0540-4f50-a0b0-d0896fb4b534",
     "regions": {
      "4fb8e26b-d6f9-4bb1-8d3f-e4bf29be0564": {
       "attrs": {
        "height": 0.8,
        "width": 0.8,
        "x": 0.1,
        "y": 0.1
       },
       "content": {
        "cell": "3a4bb641-60ad-41aa-ba0b-168114f66123",
        "part": "whole"
       },
       "id": "4fb8e26b-d6f9-4bb1-8d3f-e4bf29be0564"
      }
     }
    },
    "ce512c0b-94ce-43fa-bbc6-3f226d4bbf5a": {
     "id": "ce512c0b-94ce-43fa-bbc6-3f226d4bbf5a",
     "prev": "dda4eda5-514d-4280-a559-bd74c8c104c3",
     "regions": {
      "1ca181e6-13b4-4422-ad93-a9fc9ac8000f": {
       "attrs": {
        "height": 0.4,
        "width": 0.8,
        "x": 0.1,
        "y": 0.5
       },
       "content": {
        "cell": "a9d6971f-f5ae-4b1b-b6e3-e55c8888df85",
        "part": "whole"
       },
       "id": "1ca181e6-13b4-4422-ad93-a9fc9ac8000f"
      },
      "5e0e1839-9110-4d4d-bdd7-dae58e7ebcba": {
       "attrs": {
        "height": 0.8,
        "width": 0.8,
        "x": 0.1,
        "y": 0.1
       },
       "content": {
        "cell": "6387a7f2-b75f-46c7-9e97-a84cd6d7f572",
        "part": "whole"
       },
       "id": "5e0e1839-9110-4d4d-bdd7-dae58e7ebcba"
      }
     }
    },
    "dadb12e3-ae58-4c42-b0ea-06373c4a431c": {
     "id": "dadb12e3-ae58-4c42-b0ea-06373c4a431c",
     "prev": "2f08fc76-506a-436a-a001-57cd459bc10e",
     "regions": {
      "043ab3da-aef9-416f-b902-5f5fbfe320ba": {
       "attrs": {
        "height": 0.4,
        "width": 0.8,
        "x": 0.1,
        "y": 0.5
       },
       "content": {
        "cell": "f7b34bd5-c053-4979-8158-2f50748f7675",
        "part": "whole"
       },
       "id": "043ab3da-aef9-416f-b902-5f5fbfe320ba"
      },
      "558f6345-14cb-4521-9730-eef3c0ebc9ca": {
       "attrs": {
        "height": 0.4,
        "width": 0.8,
        "x": 0.1,
        "y": 0.5
       },
       "content": {
        "cell": "94aaefd8-aab9-4c42-acb2-941a64967264",
        "part": "whole"
       },
       "id": "558f6345-14cb-4521-9730-eef3c0ebc9ca"
      },
      "7ee05790-958f-4c12-aa1c-777e4163b86e": {
       "attrs": {
        "height": 0.4,
        "width": 0.8,
        "x": 0.1,
        "y": 0.5
       },
       "content": {
        "cell": "a32bed8e-6037-4c04-bcda-421832d9dc56",
        "part": "whole"
       },
       "id": "7ee05790-958f-4c12-aa1c-777e4163b86e"
      },
      "ac119c18-2ded-42e9-be27-af8c465be319": {
       "attrs": {
        "height": 0.4,
        "width": 0.8,
        "x": 0.1,
        "y": 0.5
       },
       "content": {
        "cell": "2213bd0e-a129-43c6-9a49-7cad724ac2b4",
        "part": "whole"
       },
       "id": "ac119c18-2ded-42e9-be27-af8c465be319"
      },
      "d2720b60-81f1-4455-a5f9-846eac423dfe": {
       "attrs": {
        "height": 0.8,
        "width": 0.8,
        "x": 0.1,
        "y": 0.1
       },
       "content": {
        "cell": "373921a8-9ede-4197-8cee-b82437f5aa64",
        "part": "whole"
       },
       "id": "d2720b60-81f1-4455-a5f9-846eac423dfe"
      }
     }
    },
    "dda4eda5-514d-4280-a559-bd74c8c104c3": {
     "id": "dda4eda5-514d-4280-a559-bd74c8c104c3",
     "prev": "bed18a91-f54c-4106-9447-9dc97d33ace4",
     "regions": {
      "5d7b4cc1-7f00-4e56-98f8-63505e3c232d": {
       "attrs": {
        "height": 0.4,
        "width": 0.8,
        "x": 0.1,
        "y": 0.5
       },
       "content": {
        "cell": "265acf8c-7e77-4dc8-8dc2-3b41be08da83",
        "part": "whole"
       },
       "id": "5d7b4cc1-7f00-4e56-98f8-63505e3c232d"
      },
      "88d6daf1-b76a-4514-aae4-cb188ae70178": {
       "attrs": {
        "height": 0.4,
        "width": 0.8,
        "x": 0.1,
        "y": 0.5
       },
       "content": {
        "cell": "46839b0a-7318-49c4-ba0a-c7990ba40c4f",
        "part": "whole"
       },
       "id": "88d6daf1-b76a-4514-aae4-cb188ae70178"
      },
      "c1f03cf3-d740-44e7-b66c-1bb01c6f957f": {
       "attrs": {
        "height": 0.8,
        "width": 0.8,
        "x": 0.1,
        "y": 0.1
       },
       "content": {
        "cell": "1b36334e-b088-48a5-9f79-28e8f4c7731d",
        "part": "whole"
       },
       "id": "c1f03cf3-d740-44e7-b66c-1bb01c6f957f"
      }
     }
    },
    "e2348bdb-3ba2-45f4-ad55-415ed9ff5540": {
     "id": "e2348bdb-3ba2-45f4-ad55-415ed9ff5540",
     "prev": "3f2767d4-1685-48e2-9396-efb6cbbc61dc",
     "regions": {
      "26bc2feb-d03f-4ce7-a56c-b468559beb28": {
       "attrs": {
        "height": 0.4,
        "width": 0.8,
        "x": 0.1,
        "y": 0.5
       },
       "content": {
        "cell": "01c097a1-b040-463f-ad8a-e9ff3617606d",
        "part": "whole"
       },
       "id": "26bc2feb-d03f-4ce7-a56c-b468559beb28"
      },
      "78d57727-7104-482f-a33a-074e9c66acac": {
       "attrs": {
        "height": 0.4,
        "width": 0.8,
        "x": 0.1,
        "y": 0.5
       },
       "content": {
        "cell": "405a573a-b42f-4099-a9b9-d4004ffc1e6d",
        "part": "whole"
       },
       "id": "78d57727-7104-482f-a33a-074e9c66acac"
      },
      "797af71b-41d3-4c38-bf3b-8442c379594a": {
       "attrs": {
        "height": 0.4,
        "width": 0.8,
        "x": 0.1,
        "y": 0.5
       },
       "content": {
        "cell": "8586e12f-9d8f-48f5-9dab-8485f02c37ba",
        "part": "whole"
       },
       "id": "797af71b-41d3-4c38-bf3b-8442c379594a"
      },
      "bf310390-8a94-4f60-94dd-77996c2a5100": {
       "attrs": {
        "height": 0.8,
        "width": 0.8,
        "x": 0.1,
        "y": 0.1
       },
       "content": {
        "cell": "9aeba9ea-b9b8-4713-a361-8b8799bcd827",
        "part": "whole"
       },
       "id": "bf310390-8a94-4f60-94dd-77996c2a5100"
      }
     }
    },
    "e66ce0b2-0da8-4e70-b485-bc633ae610b1": {
     "id": "e66ce0b2-0da8-4e70-b485-bc633ae610b1",
     "prev": "809c5d54-cb2b-4ee6-b489-5be655e7f76a",
     "regions": {
      "371d8de5-99ac-46ff-afe4-d7b84f3cc073": {
       "attrs": {
        "height": 0.4,
        "width": 0.8,
        "x": 0.1,
        "y": 0.5
       },
       "content": {
        "cell": "c2cfcf5d-ea69-412f-aff1-bab5e240021f",
        "part": "whole"
       },
       "id": "371d8de5-99ac-46ff-afe4-d7b84f3cc073"
      },
      "4a45f51a-7f93-4ab7-8593-839253f38797": {
       "attrs": {
        "height": 0.4,
        "width": 0.8,
        "x": 0.1,
        "y": 0.5
       },
       "content": {
        "cell": "5347e33d-9387-4805-9422-e670473079a9",
        "part": "whole"
       },
       "id": "4a45f51a-7f93-4ab7-8593-839253f38797"
      },
      "4b5a3b9c-10cb-4fb2-9309-6fde835e50e1": {
       "attrs": {
        "height": 0.8,
        "width": 0.8,
        "x": 0.1,
        "y": 0.1
       },
       "content": {
        "cell": "30022299-75c8-4706-b099-46ecbbd14db4",
        "part": "whole"
       },
       "id": "4b5a3b9c-10cb-4fb2-9309-6fde835e50e1"
      }
     }
    },
    "ef8678ac-0540-4f50-a0b0-d0896fb4b534": {
     "id": "ef8678ac-0540-4f50-a0b0-d0896fb4b534",
     "prev": "66da7c99-5473-4fde-abc5-14ff1f24944c",
     "regions": {
      "6dc08ff2-77cc-4e7b-a9fb-9fdfb46e88a7": {
       "attrs": {
        "height": 0.8,
        "width": 0.8,
        "x": 0.1,
        "y": 0.1
       },
       "content": {
        "cell": "679a49fa-4450-4ac5-a09b-4c26467bb0cf",
        "part": "whole"
       },
       "id": "6dc08ff2-77cc-4e7b-a9fb-9fdfb46e88a7"
      }
     }
    },
    "fa8362df-d0d0-4967-b2ce-0bc24b041a7b": {
     "id": "fa8362df-d0d0-4967-b2ce-0bc24b041a7b",
     "prev": "c4d2da00-bd89-4407-8579-aa26076c58f0",
     "regions": {
      "353d7ed9-0403-48a9-87d9-97ff19fbe977": {
       "attrs": {
        "height": 0.4,
        "width": 0.8,
        "x": 0.1,
        "y": 0.5
       },
       "content": {
        "cell": "c03609c2-22d7-453c-87df-4a4822599bfa",
        "part": "whole"
       },
       "id": "353d7ed9-0403-48a9-87d9-97ff19fbe977"
      },
      "4f763f24-d210-441b-a0fa-d293306ce7a7": {
       "attrs": {
        "height": 0.8,
        "width": 0.8,
        "x": 0.1,
        "y": 0.1
       },
       "content": {
        "cell": "a113b645-8c8d-4a1d-9c6f-eaf5287c3b60",
        "part": "whole"
       },
       "id": "4f763f24-d210-441b-a0fa-d293306ce7a7"
      },
      "f210b6c0-c327-42ca-bd33-e7393490769b": {
       "attrs": {
        "height": 0.4,
        "width": 0.8,
        "x": 0.1,
        "y": 0.5
       },
       "content": {
        "cell": "c4d89d4b-4241-4506-84b0-aa70f30d974a",
        "part": "whole"
       },
       "id": "f210b6c0-c327-42ca-bd33-e7393490769b"
      },
      "fc00f419-018b-4dd1-b15d-fd5800a850aa": {
       "attrs": {
        "height": 0.4,
        "width": 0.8,
        "x": 0.1,
        "y": 0.5
       },
       "content": {
        "cell": "6ae7fdb2-21e4-4be3-afc5-005b6a0040e8",
        "part": "whole"
       },
       "id": "fc00f419-018b-4dd1-b15d-fd5800a850aa"
      }
     }
    },
    "fe3da8de-836b-4889-a4ab-629b26217b67": {
     "id": "fe3da8de-836b-4889-a4ab-629b26217b67",
     "prev": "77c56d86-ac62-441a-b637-c28c416c0f3b",
     "regions": {
      "0f12d54b-4c00-4957-a24a-ea9318feed8b": {
       "attrs": {
        "height": 0.4,
        "width": 0.8,
        "x": 0.1,
        "y": 0.5
       },
       "content": {
        "cell": "571fc88a-3513-4b40-8787-16ab28050fbf",
        "part": "whole"
       },
       "id": "0f12d54b-4c00-4957-a24a-ea9318feed8b"
      },
      "86dff081-6b80-4df6-8ba1-745929dcff74": {
       "attrs": {
        "height": 0.8,
        "width": 0.8,
        "x": 0.1,
        "y": 0.1
       },
       "content": {
        "cell": "b4670e0f-49da-48a8-bc82-640a954d2f54",
        "part": "whole"
       },
       "id": "86dff081-6b80-4df6-8ba1-745929dcff74"
      }
     }
    }
   },
   "themes": {
    "default": "494ee13b-4963-4ee7-9c53-3d837a60e208",
    "theme": {}
   }
  },
  "presentation_info": {
   "pi_author": "Paul Ganssle",
   "pi_title": "variants"
  }
 },
 "nbformat": 4,
 "nbformat_minor": 1
}
